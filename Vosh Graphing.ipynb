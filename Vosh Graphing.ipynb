{
 "cells": [
  {
   "cell_type": "code",
   "execution_count": 1,
   "metadata": {
    "ExecuteTime": {
     "end_time": "2020-04-20T16:05:33.628235Z",
     "start_time": "2020-04-20T16:05:33.620234Z"
    }
   },
   "outputs": [],
   "source": [
    "import matplotlib.pyplot as plt\n",
    "import numpy as np\n",
    "import pandas as pd\n",
    "pd.set_option('display.max_columns', None)\n",
    "import datetime"
   ]
  },
  {
   "cell_type": "code",
   "execution_count": 2,
   "metadata": {
    "ExecuteTime": {
     "end_time": "2020-04-20T16:05:34.477565Z",
     "start_time": "2020-04-20T16:05:34.472578Z"
    }
   },
   "outputs": [],
   "source": [
    "barWidth = 0.9\n",
    "\n",
    "#create bars\n",
    "bars = [7.9, 23.1, 32.3, 25.7, 9.8, 8.5, 37.5, 26.8, 27.3, 36.7, 16.2]\n",
    "\n",
    "#bar positions\n",
    "r = [1, 2, 3, 4, 5, 6, 7, 8, 9, 10, 11]\n",
    "\n",
    "var = ['Driving too Fast','SlipperySurf/WaterPooling','BadWeather','Congestion','FollowTooClose', ' Animal/Debris',\n",
    "      'BadVisibility', 'Inattention','ImproperManeuver', 'VOSh', 'CurvePresent']"
   ]
  },
  {
   "cell_type": "code",
   "execution_count": null,
   "metadata": {
    "ExecuteTime": {
     "end_time": "2020-04-20T16:05:37.815572Z",
     "start_time": "2020-04-20T16:05:37.803571Z"
    }
   },
   "outputs": [],
   "source": [
    "#create plot\n",
    "plt.hbar(r, bars, width = barWidth, color = (0.3,0.1,0.4,0.6), label = 'Support')\n",
    "\n",
    "#plt.legend()\n",
    "\n",
    "plt.ylabel('Support (%)')\n",
    "\n",
    "plt.xticks([x + barWidth for x in range(len(r))], var, rotation = 90)\n",
    "\n",
    "plt.savefig('frequent items', dpi = 300, bbox_inches = 'tight')\n",
    "plt.show()"
   ]
  },
  {
   "cell_type": "code",
   "execution_count": 2,
   "metadata": {
    "ExecuteTime": {
     "end_time": "2020-04-20T02:20:30.830321Z",
     "start_time": "2020-04-20T02:20:30.782290Z"
    }
   },
   "outputs": [],
   "source": [
    "arm = pd.read_csv('fullarmtable.csv')"
   ]
  },
  {
   "cell_type": "code",
   "execution_count": 3,
   "metadata": {
    "ExecuteTime": {
     "end_time": "2020-04-20T02:21:33.033050Z",
     "start_time": "2020-04-20T02:21:33.013018Z"
    }
   },
   "outputs": [
    {
     "data": {
      "text/html": [
       "<div>\n",
       "<style scoped>\n",
       "    .dataframe tbody tr th:only-of-type {\n",
       "        vertical-align: middle;\n",
       "    }\n",
       "\n",
       "    .dataframe tbody tr th {\n",
       "        vertical-align: top;\n",
       "    }\n",
       "\n",
       "    .dataframe thead th {\n",
       "        text-align: right;\n",
       "    }\n",
       "</style>\n",
       "<table border=\"1\" class=\"dataframe\">\n",
       "  <thead>\n",
       "    <tr style=\"text-align: right;\">\n",
       "      <th></th>\n",
       "      <th>CrashID</th>\n",
       "      <th>Lat</th>\n",
       "      <th>Long</th>\n",
       "      <th>CollisionDate</th>\n",
       "      <th>CollisionTime</th>\n",
       "      <th>rtunique</th>\n",
       "      <th>CurvePresent</th>\n",
       "      <th>GradePresent</th>\n",
       "      <th>BadVisibility</th>\n",
       "      <th>BadWeather</th>\n",
       "      <th>...</th>\n",
       "      <th>Animal/Debris</th>\n",
       "      <th>SlipperySurf/WaterPooling</th>\n",
       "      <th>EnvFactor_Other</th>\n",
       "      <th>Impaired</th>\n",
       "      <th>Dstracted</th>\n",
       "      <th>Inattention</th>\n",
       "      <th>DrivingTooFast</th>\n",
       "      <th>RightOfWay</th>\n",
       "      <th>ImproperManeuver</th>\n",
       "      <th>FollowTooClose</th>\n",
       "    </tr>\n",
       "  </thead>\n",
       "  <tbody>\n",
       "    <tr>\n",
       "      <th>0</th>\n",
       "      <td>6363</td>\n",
       "      <td>38.20284</td>\n",
       "      <td>-85.68595</td>\n",
       "      <td>20180701</td>\n",
       "      <td>155</td>\n",
       "      <td>056-I-0264-010</td>\n",
       "      <td>1</td>\n",
       "      <td>0</td>\n",
       "      <td>1</td>\n",
       "      <td>0</td>\n",
       "      <td>...</td>\n",
       "      <td>0</td>\n",
       "      <td>0</td>\n",
       "      <td>0</td>\n",
       "      <td>0</td>\n",
       "      <td>0</td>\n",
       "      <td>0</td>\n",
       "      <td>0</td>\n",
       "      <td>0</td>\n",
       "      <td>0</td>\n",
       "      <td>0</td>\n",
       "    </tr>\n",
       "    <tr>\n",
       "      <th>1</th>\n",
       "      <td>6369</td>\n",
       "      <td>37.98286</td>\n",
       "      <td>-85.69970</td>\n",
       "      <td>20180701</td>\n",
       "      <td>600</td>\n",
       "      <td>015-I-0065-000</td>\n",
       "      <td>1</td>\n",
       "      <td>0</td>\n",
       "      <td>1</td>\n",
       "      <td>0</td>\n",
       "      <td>...</td>\n",
       "      <td>0</td>\n",
       "      <td>0</td>\n",
       "      <td>0</td>\n",
       "      <td>0</td>\n",
       "      <td>0</td>\n",
       "      <td>0</td>\n",
       "      <td>0</td>\n",
       "      <td>0</td>\n",
       "      <td>0</td>\n",
       "      <td>0</td>\n",
       "    </tr>\n",
       "    <tr>\n",
       "      <th>2</th>\n",
       "      <td>6370</td>\n",
       "      <td>38.48323</td>\n",
       "      <td>-85.26793</td>\n",
       "      <td>20180701</td>\n",
       "      <td>1302</td>\n",
       "      <td>052-I-0071-010</td>\n",
       "      <td>1</td>\n",
       "      <td>1</td>\n",
       "      <td>0</td>\n",
       "      <td>0</td>\n",
       "      <td>...</td>\n",
       "      <td>0</td>\n",
       "      <td>1</td>\n",
       "      <td>0</td>\n",
       "      <td>0</td>\n",
       "      <td>0</td>\n",
       "      <td>0</td>\n",
       "      <td>0</td>\n",
       "      <td>0</td>\n",
       "      <td>1</td>\n",
       "      <td>0</td>\n",
       "    </tr>\n",
       "  </tbody>\n",
       "</table>\n",
       "<p>3 rows × 45 columns</p>\n",
       "</div>"
      ],
      "text/plain": [
       "   CrashID       Lat      Long  CollisionDate  CollisionTime        rtunique  \\\n",
       "0     6363  38.20284 -85.68595       20180701            155  056-I-0264-010   \n",
       "1     6369  37.98286 -85.69970       20180701            600  015-I-0065-000   \n",
       "2     6370  38.48323 -85.26793       20180701           1302  052-I-0071-010   \n",
       "\n",
       "   CurvePresent  GradePresent  BadVisibility  BadWeather  ...  Animal/Debris  \\\n",
       "0             1             0              1           0  ...              0   \n",
       "1             1             0              1           0  ...              0   \n",
       "2             1             1              0           0  ...              0   \n",
       "\n",
       "   SlipperySurf/WaterPooling  EnvFactor_Other  Impaired  Dstracted  \\\n",
       "0                          0                0         0          0   \n",
       "1                          0                0         0          0   \n",
       "2                          1                0         0          0   \n",
       "\n",
       "   Inattention DrivingTooFast RightOfWay  ImproperManeuver  FollowTooClose  \n",
       "0            0              0          0                 0               0  \n",
       "1            0              0          0                 0               0  \n",
       "2            0              0          0                 1               0  \n",
       "\n",
       "[3 rows x 45 columns]"
      ]
     },
     "execution_count": 3,
     "metadata": {},
     "output_type": "execute_result"
    }
   ],
   "source": [
    "arm.head(3)"
   ]
  },
  {
   "cell_type": "code",
   "execution_count": 4,
   "metadata": {
    "ExecuteTime": {
     "end_time": "2020-04-20T02:21:26.861018Z",
     "start_time": "2020-04-20T02:21:26.780664Z"
    }
   },
   "outputs": [],
   "source": [
    "def get_time(x):\n",
    "    x = int(x)\n",
    "    hr = x//100\n",
    "    mn = x-hr*100\n",
    "    sc = 0\n",
    "    tm = datetime.time(hr, mn, sc)\n",
    "    return tm\n",
    "\n",
    "\n",
    "def get_date(x):\n",
    "    x = str(x)\n",
    "    #dt=datetime.datetime.strptime(x, '%m/%d/%Y').date()\n",
    "    dt = datetime.datetime.strptime(x, '%Y%m%d').date()\n",
    "    return dt\n",
    "\n",
    "arm['Time'] = arm['CollisionTime'].map(get_time)\n",
    "arm['Date'] = arm['CollisionDate'].map(get_date)"
   ]
  },
  {
   "cell_type": "code",
   "execution_count": 11,
   "metadata": {},
   "outputs": [
    {
     "data": {
      "text/html": [
       "<div>\n",
       "<style scoped>\n",
       "    .dataframe tbody tr th:only-of-type {\n",
       "        vertical-align: middle;\n",
       "    }\n",
       "\n",
       "    .dataframe tbody tr th {\n",
       "        vertical-align: top;\n",
       "    }\n",
       "\n",
       "    .dataframe thead th {\n",
       "        text-align: right;\n",
       "    }\n",
       "</style>\n",
       "<table border=\"1\" class=\"dataframe\">\n",
       "  <thead>\n",
       "    <tr style=\"text-align: right;\">\n",
       "      <th></th>\n",
       "      <th>CrashID</th>\n",
       "      <th>Lat</th>\n",
       "      <th>Long</th>\n",
       "      <th>CollisionDate</th>\n",
       "      <th>CollisionTime</th>\n",
       "      <th>rtunique</th>\n",
       "      <th>CurvePresent</th>\n",
       "      <th>GradePresent</th>\n",
       "      <th>BadVisibility</th>\n",
       "      <th>BadWeather</th>\n",
       "      <th>...</th>\n",
       "      <th>Impaired</th>\n",
       "      <th>Dstracted</th>\n",
       "      <th>Inattention</th>\n",
       "      <th>DrivingTooFast</th>\n",
       "      <th>RightOfWay</th>\n",
       "      <th>ImproperManeuver</th>\n",
       "      <th>FollowTooClose</th>\n",
       "      <th>Time</th>\n",
       "      <th>Date</th>\n",
       "      <th>hour</th>\n",
       "    </tr>\n",
       "  </thead>\n",
       "  <tbody>\n",
       "    <tr>\n",
       "      <th>0</th>\n",
       "      <td>6363</td>\n",
       "      <td>38.20284</td>\n",
       "      <td>-85.68595</td>\n",
       "      <td>20180701</td>\n",
       "      <td>155</td>\n",
       "      <td>056-I-0264-010</td>\n",
       "      <td>1</td>\n",
       "      <td>0</td>\n",
       "      <td>1</td>\n",
       "      <td>0</td>\n",
       "      <td>...</td>\n",
       "      <td>0</td>\n",
       "      <td>0</td>\n",
       "      <td>0</td>\n",
       "      <td>0</td>\n",
       "      <td>0</td>\n",
       "      <td>0</td>\n",
       "      <td>0</td>\n",
       "      <td>01:55:00</td>\n",
       "      <td>2018-07-01</td>\n",
       "      <td>1</td>\n",
       "    </tr>\n",
       "    <tr>\n",
       "      <th>1</th>\n",
       "      <td>6369</td>\n",
       "      <td>37.98286</td>\n",
       "      <td>-85.69970</td>\n",
       "      <td>20180701</td>\n",
       "      <td>600</td>\n",
       "      <td>015-I-0065-000</td>\n",
       "      <td>1</td>\n",
       "      <td>0</td>\n",
       "      <td>1</td>\n",
       "      <td>0</td>\n",
       "      <td>...</td>\n",
       "      <td>0</td>\n",
       "      <td>0</td>\n",
       "      <td>0</td>\n",
       "      <td>0</td>\n",
       "      <td>0</td>\n",
       "      <td>0</td>\n",
       "      <td>0</td>\n",
       "      <td>06:00:00</td>\n",
       "      <td>2018-07-01</td>\n",
       "      <td>6</td>\n",
       "    </tr>\n",
       "    <tr>\n",
       "      <th>2</th>\n",
       "      <td>6370</td>\n",
       "      <td>38.48323</td>\n",
       "      <td>-85.26793</td>\n",
       "      <td>20180701</td>\n",
       "      <td>1302</td>\n",
       "      <td>052-I-0071-010</td>\n",
       "      <td>1</td>\n",
       "      <td>1</td>\n",
       "      <td>0</td>\n",
       "      <td>0</td>\n",
       "      <td>...</td>\n",
       "      <td>0</td>\n",
       "      <td>0</td>\n",
       "      <td>0</td>\n",
       "      <td>0</td>\n",
       "      <td>0</td>\n",
       "      <td>1</td>\n",
       "      <td>0</td>\n",
       "      <td>13:02:00</td>\n",
       "      <td>2018-07-01</td>\n",
       "      <td>13</td>\n",
       "    </tr>\n",
       "    <tr>\n",
       "      <th>3</th>\n",
       "      <td>6372</td>\n",
       "      <td>38.10110</td>\n",
       "      <td>-84.48867</td>\n",
       "      <td>20180701</td>\n",
       "      <td>1115</td>\n",
       "      <td>034-I-0075-010</td>\n",
       "      <td>0</td>\n",
       "      <td>0</td>\n",
       "      <td>0</td>\n",
       "      <td>0</td>\n",
       "      <td>...</td>\n",
       "      <td>0</td>\n",
       "      <td>0</td>\n",
       "      <td>1</td>\n",
       "      <td>0</td>\n",
       "      <td>0</td>\n",
       "      <td>1</td>\n",
       "      <td>0</td>\n",
       "      <td>11:15:00</td>\n",
       "      <td>2018-07-01</td>\n",
       "      <td>11</td>\n",
       "    </tr>\n",
       "    <tr>\n",
       "      <th>4</th>\n",
       "      <td>6373</td>\n",
       "      <td>37.84862</td>\n",
       "      <td>-84.32989</td>\n",
       "      <td>20180701</td>\n",
       "      <td>1310</td>\n",
       "      <td>076-I-0075-000</td>\n",
       "      <td>0</td>\n",
       "      <td>0</td>\n",
       "      <td>0</td>\n",
       "      <td>0</td>\n",
       "      <td>...</td>\n",
       "      <td>0</td>\n",
       "      <td>0</td>\n",
       "      <td>0</td>\n",
       "      <td>0</td>\n",
       "      <td>0</td>\n",
       "      <td>0</td>\n",
       "      <td>0</td>\n",
       "      <td>13:10:00</td>\n",
       "      <td>2018-07-01</td>\n",
       "      <td>13</td>\n",
       "    </tr>\n",
       "  </tbody>\n",
       "</table>\n",
       "<p>5 rows × 48 columns</p>\n",
       "</div>"
      ],
      "text/plain": [
       "   CrashID       Lat      Long  CollisionDate  CollisionTime        rtunique  \\\n",
       "0     6363  38.20284 -85.68595       20180701            155  056-I-0264-010   \n",
       "1     6369  37.98286 -85.69970       20180701            600  015-I-0065-000   \n",
       "2     6370  38.48323 -85.26793       20180701           1302  052-I-0071-010   \n",
       "3     6372  38.10110 -84.48867       20180701           1115  034-I-0075-010   \n",
       "4     6373  37.84862 -84.32989       20180701           1310  076-I-0075-000   \n",
       "\n",
       "   CurvePresent  GradePresent  BadVisibility  BadWeather  ...  Impaired  \\\n",
       "0             1             0              1           0  ...         0   \n",
       "1             1             0              1           0  ...         0   \n",
       "2             1             1              0           0  ...         0   \n",
       "3             0             0              0           0  ...         0   \n",
       "4             0             0              0           0  ...         0   \n",
       "\n",
       "   Dstracted  Inattention  DrivingTooFast  RightOfWay  ImproperManeuver  \\\n",
       "0          0            0               0           0                 0   \n",
       "1          0            0               0           0                 0   \n",
       "2          0            0               0           0                 1   \n",
       "3          0            1               0           0                 1   \n",
       "4          0            0               0           0                 0   \n",
       "\n",
       "  FollowTooClose      Time        Date  hour  \n",
       "0              0  01:55:00  2018-07-01     1  \n",
       "1              0  06:00:00  2018-07-01     6  \n",
       "2              0  13:02:00  2018-07-01    13  \n",
       "3              0  11:15:00  2018-07-01    11  \n",
       "4              0  13:10:00  2018-07-01    13  \n",
       "\n",
       "[5 rows x 48 columns]"
      ]
     },
     "execution_count": 11,
     "metadata": {},
     "output_type": "execute_result"
    }
   ],
   "source": [
    "arm.head()"
   ]
  },
  {
   "cell_type": "code",
   "execution_count": 10,
   "metadata": {},
   "outputs": [],
   "source": [
    "def get_hr(x):\n",
    "    return x.hour\n",
    "\n",
    "arm['hour'] = arm['Time'].map(get_hr)"
   ]
  },
  {
   "cell_type": "code",
   "execution_count": 12,
   "metadata": {},
   "outputs": [
    {
     "data": {
      "text/plain": [
       "array([ 1,  6, 13, 11, 10, 15, 14, 19, 20,  4, 22, 16, 23, 18,  8, 17,  7,\n",
       "        9,  3, 12, 21,  2,  5,  0])"
      ]
     },
     "execution_count": 12,
     "metadata": {},
     "output_type": "execute_result"
    }
   ],
   "source": [
    "arm.hour.unique()"
   ]
  },
  {
   "cell_type": "code",
   "execution_count": 37,
   "metadata": {},
   "outputs": [],
   "source": [
    "vsc = arm[arm.VOSh == 1].copy()"
   ]
  },
  {
   "cell_type": "code",
   "execution_count": 44,
   "metadata": {},
   "outputs": [],
   "source": [
    "nvsc = arm[arm.VOSh == 0].copy()"
   ]
  },
  {
   "cell_type": "code",
   "execution_count": 38,
   "metadata": {},
   "outputs": [],
   "source": [
    "vsc.sort_values('hour', ascending = True, inplace = True, na_position = 'last', ignore_index = True)"
   ]
  },
  {
   "cell_type": "code",
   "execution_count": 45,
   "metadata": {},
   "outputs": [],
   "source": [
    "nvsc.sort_values('hour', ascending = True, inplace = True, na_position = 'last', ignore_index = True)"
   ]
  },
  {
   "cell_type": "code",
   "execution_count": 40,
   "metadata": {},
   "outputs": [
    {
     "data": {
      "text/plain": [
       "array([ 0,  1,  2,  3,  4,  5,  6,  7,  8,  9, 10, 11, 12, 13, 14, 15, 16,\n",
       "       17, 18, 19, 20, 21, 22, 23])"
      ]
     },
     "execution_count": 40,
     "metadata": {},
     "output_type": "execute_result"
    }
   ],
   "source": [
    "vsc.hour.unique()"
   ]
  },
  {
   "cell_type": "code",
   "execution_count": 46,
   "metadata": {},
   "outputs": [],
   "source": [
    "freqvsc = vsc.hour.value_counts().to_frame()"
   ]
  },
  {
   "cell_type": "code",
   "execution_count": 49,
   "metadata": {},
   "outputs": [],
   "source": [
    "freqnvsc = nvsc.hour.value_counts().to_frame()"
   ]
  },
  {
   "cell_type": "code",
   "execution_count": 47,
   "metadata": {},
   "outputs": [],
   "source": [
    "freqvsc.sort_index(inplace = True)"
   ]
  },
  {
   "cell_type": "code",
   "execution_count": 50,
   "metadata": {},
   "outputs": [],
   "source": [
    "freqnvsc.sort_index(inplace = True)"
   ]
  },
  {
   "cell_type": "code",
   "execution_count": 48,
   "metadata": {},
   "outputs": [
    {
     "data": {
      "text/html": [
       "<div>\n",
       "<style scoped>\n",
       "    .dataframe tbody tr th:only-of-type {\n",
       "        vertical-align: middle;\n",
       "    }\n",
       "\n",
       "    .dataframe tbody tr th {\n",
       "        vertical-align: top;\n",
       "    }\n",
       "\n",
       "    .dataframe thead th {\n",
       "        text-align: right;\n",
       "    }\n",
       "</style>\n",
       "<table border=\"1\" class=\"dataframe\">\n",
       "  <thead>\n",
       "    <tr style=\"text-align: right;\">\n",
       "      <th></th>\n",
       "      <th>hour</th>\n",
       "    </tr>\n",
       "  </thead>\n",
       "  <tbody>\n",
       "    <tr>\n",
       "      <th>0</th>\n",
       "      <td>14</td>\n",
       "    </tr>\n",
       "    <tr>\n",
       "      <th>1</th>\n",
       "      <td>7</td>\n",
       "    </tr>\n",
       "    <tr>\n",
       "      <th>2</th>\n",
       "      <td>11</td>\n",
       "    </tr>\n",
       "    <tr>\n",
       "      <th>3</th>\n",
       "      <td>9</td>\n",
       "    </tr>\n",
       "    <tr>\n",
       "      <th>4</th>\n",
       "      <td>8</td>\n",
       "    </tr>\n",
       "    <tr>\n",
       "      <th>5</th>\n",
       "      <td>16</td>\n",
       "    </tr>\n",
       "    <tr>\n",
       "      <th>6</th>\n",
       "      <td>55</td>\n",
       "    </tr>\n",
       "    <tr>\n",
       "      <th>7</th>\n",
       "      <td>127</td>\n",
       "    </tr>\n",
       "    <tr>\n",
       "      <th>8</th>\n",
       "      <td>115</td>\n",
       "    </tr>\n",
       "    <tr>\n",
       "      <th>9</th>\n",
       "      <td>73</td>\n",
       "    </tr>\n",
       "    <tr>\n",
       "      <th>10</th>\n",
       "      <td>83</td>\n",
       "    </tr>\n",
       "    <tr>\n",
       "      <th>11</th>\n",
       "      <td>83</td>\n",
       "    </tr>\n",
       "    <tr>\n",
       "      <th>12</th>\n",
       "      <td>114</td>\n",
       "    </tr>\n",
       "    <tr>\n",
       "      <th>13</th>\n",
       "      <td>117</td>\n",
       "    </tr>\n",
       "    <tr>\n",
       "      <th>14</th>\n",
       "      <td>161</td>\n",
       "    </tr>\n",
       "    <tr>\n",
       "      <th>15</th>\n",
       "      <td>191</td>\n",
       "    </tr>\n",
       "    <tr>\n",
       "      <th>16</th>\n",
       "      <td>233</td>\n",
       "    </tr>\n",
       "    <tr>\n",
       "      <th>17</th>\n",
       "      <td>278</td>\n",
       "    </tr>\n",
       "    <tr>\n",
       "      <th>18</th>\n",
       "      <td>169</td>\n",
       "    </tr>\n",
       "    <tr>\n",
       "      <th>19</th>\n",
       "      <td>83</td>\n",
       "    </tr>\n",
       "    <tr>\n",
       "      <th>20</th>\n",
       "      <td>61</td>\n",
       "    </tr>\n",
       "    <tr>\n",
       "      <th>21</th>\n",
       "      <td>51</td>\n",
       "    </tr>\n",
       "    <tr>\n",
       "      <th>22</th>\n",
       "      <td>21</td>\n",
       "    </tr>\n",
       "    <tr>\n",
       "      <th>23</th>\n",
       "      <td>23</td>\n",
       "    </tr>\n",
       "  </tbody>\n",
       "</table>\n",
       "</div>"
      ],
      "text/plain": [
       "    hour\n",
       "0     14\n",
       "1      7\n",
       "2     11\n",
       "3      9\n",
       "4      8\n",
       "5     16\n",
       "6     55\n",
       "7    127\n",
       "8    115\n",
       "9     73\n",
       "10    83\n",
       "11    83\n",
       "12   114\n",
       "13   117\n",
       "14   161\n",
       "15   191\n",
       "16   233\n",
       "17   278\n",
       "18   169\n",
       "19    83\n",
       "20    61\n",
       "21    51\n",
       "22    21\n",
       "23    23"
      ]
     },
     "execution_count": 48,
     "metadata": {},
     "output_type": "execute_result"
    }
   ],
   "source": [
    "freqvsc"
   ]
  },
  {
   "cell_type": "code",
   "execution_count": 51,
   "metadata": {},
   "outputs": [
    {
     "data": {
      "text/html": [
       "<div>\n",
       "<style scoped>\n",
       "    .dataframe tbody tr th:only-of-type {\n",
       "        vertical-align: middle;\n",
       "    }\n",
       "\n",
       "    .dataframe tbody tr th {\n",
       "        vertical-align: top;\n",
       "    }\n",
       "\n",
       "    .dataframe thead th {\n",
       "        text-align: right;\n",
       "    }\n",
       "</style>\n",
       "<table border=\"1\" class=\"dataframe\">\n",
       "  <thead>\n",
       "    <tr style=\"text-align: right;\">\n",
       "      <th></th>\n",
       "      <th>hour</th>\n",
       "    </tr>\n",
       "  </thead>\n",
       "  <tbody>\n",
       "    <tr>\n",
       "      <th>0</th>\n",
       "      <td>90</td>\n",
       "    </tr>\n",
       "    <tr>\n",
       "      <th>1</th>\n",
       "      <td>80</td>\n",
       "    </tr>\n",
       "    <tr>\n",
       "      <th>2</th>\n",
       "      <td>79</td>\n",
       "    </tr>\n",
       "    <tr>\n",
       "      <th>3</th>\n",
       "      <td>96</td>\n",
       "    </tr>\n",
       "    <tr>\n",
       "      <th>4</th>\n",
       "      <td>102</td>\n",
       "    </tr>\n",
       "    <tr>\n",
       "      <th>5</th>\n",
       "      <td>139</td>\n",
       "    </tr>\n",
       "    <tr>\n",
       "      <th>6</th>\n",
       "      <td>173</td>\n",
       "    </tr>\n",
       "    <tr>\n",
       "      <th>7</th>\n",
       "      <td>200</td>\n",
       "    </tr>\n",
       "    <tr>\n",
       "      <th>8</th>\n",
       "      <td>160</td>\n",
       "    </tr>\n",
       "    <tr>\n",
       "      <th>9</th>\n",
       "      <td>149</td>\n",
       "    </tr>\n",
       "    <tr>\n",
       "      <th>10</th>\n",
       "      <td>142</td>\n",
       "    </tr>\n",
       "    <tr>\n",
       "      <th>11</th>\n",
       "      <td>127</td>\n",
       "    </tr>\n",
       "    <tr>\n",
       "      <th>12</th>\n",
       "      <td>160</td>\n",
       "    </tr>\n",
       "    <tr>\n",
       "      <th>13</th>\n",
       "      <td>157</td>\n",
       "    </tr>\n",
       "    <tr>\n",
       "      <th>14</th>\n",
       "      <td>204</td>\n",
       "    </tr>\n",
       "    <tr>\n",
       "      <th>15</th>\n",
       "      <td>209</td>\n",
       "    </tr>\n",
       "    <tr>\n",
       "      <th>16</th>\n",
       "      <td>238</td>\n",
       "    </tr>\n",
       "    <tr>\n",
       "      <th>17</th>\n",
       "      <td>292</td>\n",
       "    </tr>\n",
       "    <tr>\n",
       "      <th>18</th>\n",
       "      <td>205</td>\n",
       "    </tr>\n",
       "    <tr>\n",
       "      <th>19</th>\n",
       "      <td>170</td>\n",
       "    </tr>\n",
       "    <tr>\n",
       "      <th>20</th>\n",
       "      <td>133</td>\n",
       "    </tr>\n",
       "    <tr>\n",
       "      <th>21</th>\n",
       "      <td>144</td>\n",
       "    </tr>\n",
       "    <tr>\n",
       "      <th>22</th>\n",
       "      <td>112</td>\n",
       "    </tr>\n",
       "    <tr>\n",
       "      <th>23</th>\n",
       "      <td>104</td>\n",
       "    </tr>\n",
       "  </tbody>\n",
       "</table>\n",
       "</div>"
      ],
      "text/plain": [
       "    hour\n",
       "0     90\n",
       "1     80\n",
       "2     79\n",
       "3     96\n",
       "4    102\n",
       "5    139\n",
       "6    173\n",
       "7    200\n",
       "8    160\n",
       "9    149\n",
       "10   142\n",
       "11   127\n",
       "12   160\n",
       "13   157\n",
       "14   204\n",
       "15   209\n",
       "16   238\n",
       "17   292\n",
       "18   205\n",
       "19   170\n",
       "20   133\n",
       "21   144\n",
       "22   112\n",
       "23   104"
      ]
     },
     "execution_count": 51,
     "metadata": {},
     "output_type": "execute_result"
    }
   ],
   "source": [
    "freqnvsc"
   ]
  },
  {
   "cell_type": "code",
   "execution_count": 54,
   "metadata": {},
   "outputs": [],
   "source": [
    "dt = freqvsc.merge(freqnvsc, left_index = True, right_index = True)"
   ]
  },
  {
   "cell_type": "code",
   "execution_count": 88,
   "metadata": {},
   "outputs": [
    {
     "data": {
      "text/html": [
       "<div>\n",
       "<style scoped>\n",
       "    .dataframe tbody tr th:only-of-type {\n",
       "        vertical-align: middle;\n",
       "    }\n",
       "\n",
       "    .dataframe tbody tr th {\n",
       "        vertical-align: top;\n",
       "    }\n",
       "\n",
       "    .dataframe thead th {\n",
       "        text-align: right;\n",
       "    }\n",
       "</style>\n",
       "<table border=\"1\" class=\"dataframe\">\n",
       "  <thead>\n",
       "    <tr style=\"text-align: right;\">\n",
       "      <th></th>\n",
       "      <th>0</th>\n",
       "      <th>1</th>\n",
       "      <th>2</th>\n",
       "      <th>3</th>\n",
       "      <th>4</th>\n",
       "      <th>5</th>\n",
       "      <th>6</th>\n",
       "      <th>7</th>\n",
       "      <th>8</th>\n",
       "      <th>9</th>\n",
       "      <th>10</th>\n",
       "      <th>11</th>\n",
       "      <th>12</th>\n",
       "      <th>13</th>\n",
       "      <th>14</th>\n",
       "      <th>15</th>\n",
       "      <th>16</th>\n",
       "      <th>17</th>\n",
       "      <th>18</th>\n",
       "      <th>19</th>\n",
       "      <th>20</th>\n",
       "      <th>21</th>\n",
       "      <th>22</th>\n",
       "      <th>23</th>\n",
       "    </tr>\n",
       "  </thead>\n",
       "  <tbody>\n",
       "    <tr>\n",
       "      <th>vsc</th>\n",
       "      <td>14</td>\n",
       "      <td>7</td>\n",
       "      <td>11</td>\n",
       "      <td>9</td>\n",
       "      <td>8</td>\n",
       "      <td>16</td>\n",
       "      <td>55</td>\n",
       "      <td>127</td>\n",
       "      <td>115</td>\n",
       "      <td>73</td>\n",
       "      <td>83</td>\n",
       "      <td>83</td>\n",
       "      <td>114</td>\n",
       "      <td>117</td>\n",
       "      <td>161</td>\n",
       "      <td>191</td>\n",
       "      <td>233</td>\n",
       "      <td>278</td>\n",
       "      <td>169</td>\n",
       "      <td>83</td>\n",
       "      <td>61</td>\n",
       "      <td>51</td>\n",
       "      <td>21</td>\n",
       "      <td>23</td>\n",
       "    </tr>\n",
       "    <tr>\n",
       "      <th>nvsc</th>\n",
       "      <td>90</td>\n",
       "      <td>80</td>\n",
       "      <td>79</td>\n",
       "      <td>96</td>\n",
       "      <td>102</td>\n",
       "      <td>139</td>\n",
       "      <td>173</td>\n",
       "      <td>200</td>\n",
       "      <td>160</td>\n",
       "      <td>149</td>\n",
       "      <td>142</td>\n",
       "      <td>127</td>\n",
       "      <td>160</td>\n",
       "      <td>157</td>\n",
       "      <td>204</td>\n",
       "      <td>209</td>\n",
       "      <td>238</td>\n",
       "      <td>292</td>\n",
       "      <td>205</td>\n",
       "      <td>170</td>\n",
       "      <td>133</td>\n",
       "      <td>144</td>\n",
       "      <td>112</td>\n",
       "      <td>104</td>\n",
       "    </tr>\n",
       "  </tbody>\n",
       "</table>\n",
       "</div>"
      ],
      "text/plain": [
       "      0   1   2   3    4    5    6    7    8    9    10   11   12   13   14  \\\n",
       "vsc   14   7  11   9    8   16   55  127  115   73   83   83  114  117  161   \n",
       "nvsc  90  80  79  96  102  139  173  200  160  149  142  127  160  157  204   \n",
       "\n",
       "       15   16   17   18   19   20   21   22   23  \n",
       "vsc   191  233  278  169   83   61   51   21   23  \n",
       "nvsc  209  238  292  205  170  133  144  112  104  "
      ]
     },
     "execution_count": 88,
     "metadata": {},
     "output_type": "execute_result"
    }
   ],
   "source": [
    "dt.head()"
   ]
  },
  {
   "cell_type": "code",
   "execution_count": 58,
   "metadata": {},
   "outputs": [],
   "source": [
    "dt.rename(columns = {'hour_x':'vsc', 'hour_y':'nvsc'}, inplace = True)"
   ]
  },
  {
   "cell_type": "code",
   "execution_count": 60,
   "metadata": {},
   "outputs": [],
   "source": [
    "import matplotlib.pyplot as plt\n",
    "from math import pi"
   ]
  },
  {
   "cell_type": "code",
   "execution_count": 63,
   "metadata": {},
   "outputs": [],
   "source": [
    "dt = dt.transpose()"
   ]
  },
  {
   "cell_type": "code",
   "execution_count": 79,
   "metadata": {},
   "outputs": [
    {
     "data": {
      "text/html": [
       "<div>\n",
       "<style scoped>\n",
       "    .dataframe tbody tr th:only-of-type {\n",
       "        vertical-align: middle;\n",
       "    }\n",
       "\n",
       "    .dataframe tbody tr th {\n",
       "        vertical-align: top;\n",
       "    }\n",
       "\n",
       "    .dataframe thead th {\n",
       "        text-align: right;\n",
       "    }\n",
       "</style>\n",
       "<table border=\"1\" class=\"dataframe\">\n",
       "  <thead>\n",
       "    <tr style=\"text-align: right;\">\n",
       "      <th></th>\n",
       "      <th>0</th>\n",
       "      <th>1</th>\n",
       "      <th>2</th>\n",
       "      <th>3</th>\n",
       "      <th>4</th>\n",
       "      <th>5</th>\n",
       "      <th>6</th>\n",
       "      <th>7</th>\n",
       "      <th>8</th>\n",
       "      <th>9</th>\n",
       "      <th>10</th>\n",
       "      <th>11</th>\n",
       "      <th>12</th>\n",
       "      <th>13</th>\n",
       "      <th>14</th>\n",
       "      <th>15</th>\n",
       "      <th>16</th>\n",
       "      <th>17</th>\n",
       "      <th>18</th>\n",
       "      <th>19</th>\n",
       "      <th>20</th>\n",
       "      <th>21</th>\n",
       "      <th>22</th>\n",
       "      <th>23</th>\n",
       "    </tr>\n",
       "  </thead>\n",
       "  <tbody>\n",
       "    <tr>\n",
       "      <th>vsc</th>\n",
       "      <td>14</td>\n",
       "      <td>7</td>\n",
       "      <td>11</td>\n",
       "      <td>9</td>\n",
       "      <td>8</td>\n",
       "      <td>16</td>\n",
       "      <td>55</td>\n",
       "      <td>127</td>\n",
       "      <td>115</td>\n",
       "      <td>73</td>\n",
       "      <td>83</td>\n",
       "      <td>83</td>\n",
       "      <td>114</td>\n",
       "      <td>117</td>\n",
       "      <td>161</td>\n",
       "      <td>191</td>\n",
       "      <td>233</td>\n",
       "      <td>278</td>\n",
       "      <td>169</td>\n",
       "      <td>83</td>\n",
       "      <td>61</td>\n",
       "      <td>51</td>\n",
       "      <td>21</td>\n",
       "      <td>23</td>\n",
       "    </tr>\n",
       "    <tr>\n",
       "      <th>nvsc</th>\n",
       "      <td>90</td>\n",
       "      <td>80</td>\n",
       "      <td>79</td>\n",
       "      <td>96</td>\n",
       "      <td>102</td>\n",
       "      <td>139</td>\n",
       "      <td>173</td>\n",
       "      <td>200</td>\n",
       "      <td>160</td>\n",
       "      <td>149</td>\n",
       "      <td>142</td>\n",
       "      <td>127</td>\n",
       "      <td>160</td>\n",
       "      <td>157</td>\n",
       "      <td>204</td>\n",
       "      <td>209</td>\n",
       "      <td>238</td>\n",
       "      <td>292</td>\n",
       "      <td>205</td>\n",
       "      <td>170</td>\n",
       "      <td>133</td>\n",
       "      <td>144</td>\n",
       "      <td>112</td>\n",
       "      <td>104</td>\n",
       "    </tr>\n",
       "  </tbody>\n",
       "</table>\n",
       "</div>"
      ],
      "text/plain": [
       "      0   1   2   3    4    5    6    7    8    9    10   11   12   13   14  \\\n",
       "vsc   14   7  11   9    8   16   55  127  115   73   83   83  114  117  161   \n",
       "nvsc  90  80  79  96  102  139  173  200  160  149  142  127  160  157  204   \n",
       "\n",
       "       15   16   17   18   19   20   21   22   23  \n",
       "vsc   191  233  278  169   83   61   51   21   23  \n",
       "nvsc  209  238  292  205  170  133  144  112  104  "
      ]
     },
     "execution_count": 79,
     "metadata": {},
     "output_type": "execute_result"
    }
   ],
   "source": [
    "dt"
   ]
  },
  {
   "cell_type": "code",
   "execution_count": 104,
   "metadata": {},
   "outputs": [
    {
     "data": {
      "text/plain": [
       "24"
      ]
     },
     "execution_count": 104,
     "metadata": {},
     "output_type": "execute_result"
    }
   ],
   "source": [
    "#number of variables\n",
    "categories=list(dt)[0:]\n",
    "N = len(categories)\n",
    "N"
   ]
  },
  {
   "cell_type": "code",
   "execution_count": 105,
   "metadata": {
    "scrolled": true
   },
   "outputs": [
    {
     "data": {
      "text/plain": [
       "[14,\n",
       " 7,\n",
       " 11,\n",
       " 9,\n",
       " 8,\n",
       " 16,\n",
       " 55,\n",
       " 127,\n",
       " 115,\n",
       " 73,\n",
       " 83,\n",
       " 83,\n",
       " 114,\n",
       " 117,\n",
       " 161,\n",
       " 191,\n",
       " 233,\n",
       " 278,\n",
       " 169,\n",
       " 83,\n",
       " 61,\n",
       " 51,\n",
       " 21,\n",
       " 23,\n",
       " 14]"
      ]
     },
     "execution_count": 105,
     "metadata": {},
     "output_type": "execute_result"
    }
   ],
   "source": [
    "values=dt.iloc[0].tolist()\n",
    "values += values[:1]\n",
    "values"
   ]
  },
  {
   "cell_type": "code",
   "execution_count": 106,
   "metadata": {},
   "outputs": [
    {
     "data": {
      "text/plain": [
       "25"
      ]
     },
     "execution_count": 106,
     "metadata": {},
     "output_type": "execute_result"
    }
   ],
   "source": [
    "len(values)"
   ]
  },
  {
   "cell_type": "code",
   "execution_count": 107,
   "metadata": {},
   "outputs": [],
   "source": [
    "angles = [n / float(N) * 2 * pi for n in range(N)]\n",
    "angles += angles[:1]\n"
   ]
  },
  {
   "cell_type": "code",
   "execution_count": 108,
   "metadata": {},
   "outputs": [
    {
     "data": {
      "text/plain": [
       "25"
      ]
     },
     "execution_count": 108,
     "metadata": {},
     "output_type": "execute_result"
    }
   ],
   "source": [
    "len(angles)"
   ]
  },
  {
   "cell_type": "code",
   "execution_count": 110,
   "metadata": {},
   "outputs": [
    {
     "data": {
      "text/plain": [
       "[<matplotlib.patches.Polygon at 0x124b0e510>]"
      ]
     },
     "execution_count": 110,
     "metadata": {},
     "output_type": "execute_result"
    },
    {
     "data": {
      "image/png": "[encoded data removed]",
      "text/plain": [
       "<Figure size 432x288 with 1 Axes>"
      ]
     },
     "metadata": {
      "needs_background": "dark"
     },
     "output_type": "display_data"
    }
   ],
   "source": [
    "# Initialise the spider plot\n",
    "ax = plt.subplot(111, polar=True)\n",
    " \n",
    "# Draw one axe per variable + add labels labels yet\n",
    "plt.xticks(angles[:-1], categories, color='grey', size=8)\n",
    "ax.set_rlabel_position(0)\n",
    "plt.yticks([50,100,150,200,250,300], [\"50\",\"100\",\"150\",\"200\",'250','300'], color=\"grey\", size=7)\n",
    "plt.ylim(0,3_00)\n",
    "ax.plot(angles, values, linewidth=2, linestyle='solid')\n",
    "ax.fill(angles, values, 'b', alpha=0.1)\n"
   ]
  },
  {
   "cell_type": "code",
   "execution_count": 87,
   "metadata": {},
   "outputs": [
    {
     "data": {
      "text/plain": [
       "24"
      ]
     },
     "execution_count": 87,
     "metadata": {},
     "output_type": "execute_result"
    }
   ],
   "source": [
    "len(angles)"
   ]
  },
  {
   "cell_type": "code",
   "execution_count": 118,
   "metadata": {},
   "outputs": [
    {
     "data": {
      "image/png": "[encoded data removed]",
      "text/plain": [
       "<Figure size 432x288 with 1 Axes>"
      ]
     },
     "metadata": {},
     "output_type": "display_data"
    }
   ],
   "source": [
    "ax = plt.subplot(111, polar=True)\n",
    "ax.set_theta_offset(pi / 2)\n",
    "ax.set_theta_direction(-1)\n",
    "plt.xticks(angles[:-1], categories)\n",
    "ax.set_rlabel_position(0)\n",
    "plt.yticks([50,100,150,200,250,300], [\"50\",\"100\",\"150\",\"200\",'250','300'], color=\"grey\", size=7)\n",
    "plt.ylim(0,3_00)\n",
    "\n",
    "values=dt.iloc[0].tolist()\n",
    "values += values[:1]\n",
    "ax.plot(angles, values, linewidth=1, linestyle='solid', label=\"VOSh_related\")\n",
    "ax.fill(angles, values, 'b', alpha=0.1)\n",
    "        \n",
    "values=dt.iloc[1].tolist()\n",
    "values += values[:1]\n",
    "ax.plot(angles, values, linewidth=1, linestyle='solid', label=\"not VOSh_related\")\n",
    "ax.fill(angles, values, 'r', alpha=0.1)\n",
    "\n",
    "plt.legend(loc='upper right', bbox_to_anchor=(0.1, 0.1))\n",
    "\n",
    "plt.savefig('crash spider', dpi = 300, bbox_inches = 'tight')\n",
    "plt.show()"
   ]
  },
  {
   "cell_type": "code",
   "execution_count": null,
   "metadata": {},
   "outputs": [],
   "source": []
  }
 ],
 "metadata": {
  "kernelspec": {
   "display_name": "Python 3",
   "language": "python",
   "name": "python3"
  },
  "language_info": {
   "codemirror_mode": {
    "name": "ipython",
    "version": 3
   },
   "file_extension": ".py",
   "mimetype": "text/x-python",
   "name": "python",
   "nbconvert_exporter": "python",
   "pygments_lexer": "ipython3",
   "version": "3.7.3"
  },
  "toc": {
   "base_numbering": 1,
   "nav_menu": {},
   "number_sections": true,
   "sideBar": true,
   "skip_h1_title": false,
   "title_cell": "Table of Contents",
   "title_sidebar": "Contents",
   "toc_cell": false,
   "toc_position": {},
   "toc_section_display": true,
   "toc_window_display": false
  },
  "varInspector": {
   "cols": {
    "lenName": 16,
    "lenType": 16,
    "lenVar": 40
   },
   "kernels_config": {
    "python": {
     "delete_cmd_postfix": "",
     "delete_cmd_prefix": "del ",
     "library": "var_list.py",
     "varRefreshCmd": "print(var_dic_list())"
    },
    "r": {
     "delete_cmd_postfix": ") ",
     "delete_cmd_prefix": "rm(",
     "library": "var_list.r",
     "varRefreshCmd": "cat(var_dic_list()) "
    }
   },
   "types_to_exclude": [
    "module",
    "function",
    "builtin_function_or_method",
    "instance",
    "_Feature"
   ],
   "window_display": false
  }
 },
 "nbformat": 4,
 "nbformat_minor": 4
}
