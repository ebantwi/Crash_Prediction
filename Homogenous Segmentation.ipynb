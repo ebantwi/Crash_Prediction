{
 "cells": [
  {
   "cell_type": "code",
   "execution_count": null,
   "id": "7867d19c",
   "metadata": {},
   "outputs": [],
   "source": [
    "import pandas as pd, numpy as np\n",
    "\n",
    "pd.set_option('display.max_columns', None)\n",
    "import warnings\n",
    "warnings.filterwarnings(\"ignore\")\n",
    "\n",
    "import datetime"
   ]
  },
  {
   "cell_type": "code",
   "execution_count": null,
   "id": "6acfbce4",
   "metadata": {},
   "outputs": [],
   "source": [
    "links = pd.read_csv('interchange_segments selected.csv')\n",
    "links['dir'] = links['ROUTE_ID'].map(lambda x : x.split('-')[3])\n",
    "links = links.loc[(links.dir == '000') | (links.dir == '010')]\n",
    "print(len(links))\n",
    "links.head()"
   ]
  },
  {
   "cell_type": "code",
   "execution_count": null,
   "id": "4c35e721",
   "metadata": {},
   "outputs": [],
   "source": [
    "#horizontal curvature \n",
    "links['DegHCurve_LWA'] = ((links['CU_A_LENGTH']*1.7)+(links['CU_B_LENGTH']*4.45)+\n",
    "                          (links['CU_C_LENGTH']*6.95)+(links['CU_D_LENGTH']*11.2)+\n",
    "                          (links['CU_E_LENGTH']*20.95)+(links['CU_F_LENGTH']*30))/(links['SECTION_LENGTH'])"
   ]
  },
  {
   "cell_type": "code",
   "execution_count": null,
   "id": "6d8ee5fa",
   "metadata": {},
   "outputs": [],
   "source": [
    "#vertical grade\n",
    "links['DegGrade_LWA'] = ((links['GR_A_LENGTH']*0.2)+(links['GR_B_LENGTH']*1.45)+\n",
    "                          (links['GR_C_LENGTH']*3.45)+(links['GR_D_LENGTH']*5.45)+\n",
    "                          (links['GR_E_LENGTH']*7.45)+(links['GR_F_LENGTH']*9.45))/(links['SECTION_LENGTH'])"
   ]
  },
  {
   "cell_type": "code",
   "execution_count": null,
   "id": "298a4d78",
   "metadata": {},
   "outputs": [],
   "source": [
    "#contains just cardinal direction\n",
    "linksc = links.loc[links.AllRds_Dir == 'Cardinal'].reset_index(drop=True)\n",
    "linksc.head()"
   ]
  },
  {
   "cell_type": "code",
   "execution_count": null,
   "id": "9e99e59b",
   "metadata": {},
   "outputs": [],
   "source": [
    "ln = linksc.sort_values(by=['ROUTE_ID', 'BEGIN_POINT', 'END_POINT'], ascending = True).reset_index(drop=True)\n",
    "ln['LNID'] = ln.index"
   ]
  },
  {
   "cell_type": "code",
   "execution_count": null,
   "id": "6b661ba5",
   "metadata": {},
   "outputs": [],
   "source": [
    "print(len(ln))\n",
    "ln.tail()"
   ]
  },
  {
   "cell_type": "code",
   "execution_count": null,
   "id": "d64469f7",
   "metadata": {},
   "outputs": [],
   "source": [
    "revid = 1\n",
    "i = 0\n",
    "while i < len(ln)-1:\n",
    "    ln.loc[i, 'LNSegID'] = revid\n",
    "    if ln.loc[i, 'ROUTE_ID'] == ln.loc[i+1, 'ROUTE_ID']:\n",
    "        if (ln.loc[i, 'THROUGH_LANES'] != ln.loc[i+1, 'THROUGH_LANES']) |\\\n",
    "           (ln.loc[i, 'RURAL_URBAN'] != ln.loc[i+1, 'RURAL_URBAN']) |\\\n",
    "           (ln.loc[i, 'DegHCurve_LWA'] != ln.loc[i+1, 'DegHCurve_LWA']) |\\\n",
    "           (ln.loc[i, 'DegGrade_LWA'] != ln.loc[i+1, 'DegGrade_LWA']) |\\\n",
    "           (ln.loc[i, 'AADT'] != ln.loc[i+1, 'AADT']) |\\\n",
    "           (ln.loc[i, 'LANE_WIDTH'] != ln.loc[i+1, 'LANE_WIDTH']) |\\\n",
    "           (ln.loc[i, 'SPEED_LIMIT_LWA'] != ln.loc[i+1, 'SPEED_LIMIT_LWA']) |\\\n",
    "           (ln.loc[i, 'SHOULDER_WIDTH_L'] != ln.loc[i+1, 'SHOULDER_WIDTH_L']) |\\\n",
    "           (ln.loc[i, 'SHOULDER_WIDTH_R'] != ln.loc[i+1, 'SHOULDER_WIDTH_R']) |\\\n",
    "           (ln.loc[i, 'TYPE_TERRAIN'] != ln.loc[i+1, 'TYPE_TERRAIN']) |\\\n",
    "           (ln.loc[i, 'TRUCK_PERC'] != ln.loc[i+1, 'TRUCK_PERC']):\n",
    "            revid += 1\n",
    "    else:\n",
    "        revid += 1\n",
    "    i += 1\n",
    "ln.loc[i, 'LNSegID'] = revid"
   ]
  },
  {
   "cell_type": "code",
   "execution_count": null,
   "id": "9e09c1cf",
   "metadata": {},
   "outputs": [],
   "source": [
    "ln.tail()"
   ]
  },
  {
   "cell_type": "code",
   "execution_count": null,
   "id": "bf964007",
   "metadata": {},
   "outputs": [],
   "source": [
    "first = lambda x: x.iloc[0]\n",
    "lwa = lambda x: np.average(x, weights=ln.loc[x.index, \"SECTION_LENGTH\"])\n",
    "\n",
    "ln_grouped = ln.groupby('LNSegID', as_index=False).agg({'ROUTE_ID':first,\n",
    "                                          'BEGIN_POINT': 'min',\n",
    "                                          'END_POINT': 'max',\n",
    "                                          'RURAL_URBAN':first,\n",
    "                                          'DegHCurve_LWA':lwa,\n",
    "                                          'DegGrade_LWA':lwa,\n",
    "                                          'AADT': lwa,\n",
    "                                          'TRUCK_PERC': lwa,\n",
    "                                          'TYPE_TERRAIN':lwa,\n",
    "                                          'THROUGH_LANES': lwa,\n",
    "                                          'LANE_WIDTH': lwa,\n",
    "                                           'SHOULDER_WIDTH_L':lwa,\n",
    "                                           'SHOULDER_WIDTH_R':lwa,\n",
    "                                           'SPEED_LIMIT_LWA':lwa,\n",
    "                    \n",
    "                                          \n",
    "                                          })"
   ]
  },
  {
   "cell_type": "code",
   "execution_count": null,
   "id": "aabc55cb",
   "metadata": {},
   "outputs": [],
   "source": [
    "ln_grouped[\"SECTION_LENGTH\"] =  abs(ln_grouped['END_POINT'] - ln_grouped['BEGIN_POINT'])\n",
    "ln_grouped.head()"
   ]
  },
  {
   "cell_type": "code",
   "execution_count": null,
   "id": "6aaa61cc",
   "metadata": {},
   "outputs": [],
   "source": [
    "print(f\"Total Homogenous segments both directions: {len(ln_grouped)}\")"
   ]
  },
  {
   "cell_type": "code",
   "execution_count": null,
   "id": "44cd9bef",
   "metadata": {},
   "outputs": [],
   "source": [
    "#choose cardinal direction\n",
    "# use cardinal direction MPs and length to aggregate data for both sides\n",
    "# Pick minimum speed both directions, also average speed both directions\n",
    "#aggregate speed data by date-hour from ln links to LNSegID level.\n"
   ]
  },
  {
   "cell_type": "code",
   "execution_count": null,
   "id": "fa0d88e4",
   "metadata": {
    "scrolled": true
   },
   "outputs": [],
   "source": [
    "#links change rt unique 010 to 000\n",
    "\n",
    "links['RTMod'] = links['ROUTE_ID'].str[:-3]+'000'\n",
    "links['BMP'] = links['BEGIN_POINT']\n",
    "links['EMP'] = links['END_POINT']\n",
    "links['LinkLength'] = abs(links['EMP'] - links['BMP'])\n",
    "links.head()"
   ]
  },
  {
   "cell_type": "code",
   "execution_count": null,
   "id": "a9da2e41",
   "metadata": {},
   "outputs": [],
   "source": [
    "ln_grouped.to_csv('homogenous_segments.csv', index=False)"
   ]
  },
  {
   "cell_type": "code",
   "execution_count": null,
   "id": "82fe93a7",
   "metadata": {},
   "outputs": [],
   "source": [
    "here_links = links[['RTMod', 'BMP', 'EMP', 'LinkLength', 'AllRds_Dir', 'LinkDir']]\n",
    "here_links.head()"
   ]
  },
  {
   "cell_type": "code",
   "execution_count": null,
   "id": "25920564",
   "metadata": {},
   "outputs": [],
   "source": [
    "ln_grouped.head(3)"
   ]
  },
  {
   "cell_type": "code",
   "execution_count": null,
   "id": "789a7129",
   "metadata": {},
   "outputs": [],
   "source": [
    "#Generate links in each LNSegID (homogenous segment) for both directions\n",
    "segs_here = pd.DataFrame()\n",
    "for i in range(len(ln_grouped)):  #range(len(ln_grouped))\n",
    "    rt = ln_grouped.loc[i, 'ROUTE_ID']\n",
    "    sbmp = ln_grouped.loc[i, 'BEGIN_POINT']\n",
    "    semp = ln_grouped.loc[i, 'END_POINT']\n",
    "    segid = ln_grouped.loc[i, 'LNSegID']\n",
    "    slen = ln_grouped.loc[i, 'SECTION_LENGTH']\n",
    "    \n",
    "    within_links = here_links.loc[(here_links.RTMod == rt) & (here_links.BMP < semp) &\n",
    "                                 (here_links.EMP > sbmp)].sort_values('BMP').reset_index(drop=True)\n",
    "    \n",
    "    within_links.loc[within_links.loc[within_links['AllRds_Dir'] == 'Cardinal','BMP'].idxmin(),'BMP'] = sbmp\n",
    "    within_links.loc[within_links.loc[within_links['AllRds_Dir'] == 'Cardinal','EMP'].idxmax(),'EMP'] = semp\n",
    "    within_links.loc[within_links.loc[within_links['AllRds_Dir'] != 'Cardinal','BMP'].idxmin(),'BMP'] = sbmp\n",
    "    within_links.loc[within_links.loc[within_links['AllRds_Dir'] != 'Cardinal','EMP'].idxmax(),'EMP'] = semp\n",
    "    \n",
    "    within_links['LNSegID'] = segid\n",
    "    within_links['Segment_Length'] = slen\n",
    "    \n",
    "    segs_here = segs_here.append(within_links, ignore_index=True)"
   ]
  },
  {
   "cell_type": "code",
   "execution_count": null,
   "id": "34df0e9f",
   "metadata": {},
   "outputs": [],
   "source": [
    "segs_here.tail()"
   ]
  },
  {
   "cell_type": "code",
   "execution_count": null,
   "id": "7d10b5ba",
   "metadata": {},
   "outputs": [],
   "source": [
    "segs_here.to_csv('homogenous_segments_links.csv', index=False)"
   ]
  },
  {
   "cell_type": "markdown",
   "id": "89eb713a",
   "metadata": {},
   "source": [
    "### Speed OverLay"
   ]
  },
  {
   "cell_type": "code",
   "execution_count": null,
   "id": "8d1ebfa3",
   "metadata": {},
   "outputs": [],
   "source": [
    "ln_grouped = pd.read_csv('homogenous_segments.csv')\n",
    "seglinks = pd.read_csv('homogenous_segments_links.csv')"
   ]
  },
  {
   "cell_type": "code",
   "execution_count": null,
   "id": "810e8cda",
   "metadata": {},
   "outputs": [],
   "source": [
    "ln_grouped.head()"
   ]
  },
  {
   "cell_type": "code",
   "execution_count": null,
   "id": "92763b58",
   "metadata": {},
   "outputs": [],
   "source": [
    "ln_grouped[ln_grouped.LANE_WIDTH==11]"
   ]
  },
  {
   "cell_type": "code",
   "execution_count": null,
   "id": "259e2c2a",
   "metadata": {},
   "outputs": [],
   "source": [
    "seglinks.head(10)"
   ]
  },
  {
   "cell_type": "code",
   "execution_count": null,
   "id": "3083184f",
   "metadata": {},
   "outputs": [],
   "source": [
    "spd = pd.read_csv('2018_second_half_speed.csv')\n",
    "spd = spd.sort_values(['LinkDir', 'DateTime'])\n",
    "spd.head(10)"
   ]
  },
  {
   "cell_type": "code",
   "execution_count": null,
   "id": "0800963e",
   "metadata": {},
   "outputs": [],
   "source": [
    "#check if Datetime has minute\n",
    "spd['minute'] = spd['DateTime'].str[-2:]"
   ]
  },
  {
   "cell_type": "code",
   "execution_count": null,
   "id": "56944a1f",
   "metadata": {},
   "outputs": [],
   "source": [
    "spd = spd[['LinkDir', 'DateTime', 'Hour', 'Mean','dow']]\n",
    "spd.head()"
   ]
  },
  {
   "cell_type": "code",
   "execution_count": null,
   "id": "e7b6f310",
   "metadata": {},
   "outputs": [],
   "source": [
    "spd['DateTime'] = spd['DateTime'].astype('datetime64[ns]')"
   ]
  },
  {
   "cell_type": "code",
   "execution_count": null,
   "id": "df9a2f5d",
   "metadata": {},
   "outputs": [],
   "source": [
    "spd.info()"
   ]
  },
  {
   "cell_type": "code",
   "execution_count": null,
   "id": "f4bf49a1",
   "metadata": {},
   "outputs": [],
   "source": [
    "#merge speeds onto links\n",
    "link_speed = pd.merge(seglinks, spd, on='LinkDir', how='inner')"
   ]
  },
  {
   "cell_type": "code",
   "execution_count": null,
   "id": "389d00e9",
   "metadata": {},
   "outputs": [],
   "source": [
    "link_speed.info(show_counts=True)"
   ]
  },
  {
   "cell_type": "code",
   "execution_count": null,
   "id": "2fd22950",
   "metadata": {},
   "outputs": [],
   "source": [
    "link_speed['MeanTT'] = link_speed['LinkLength']/link_speed['Mean']"
   ]
  },
  {
   "cell_type": "code",
   "execution_count": null,
   "id": "5c9fe04a",
   "metadata": {},
   "outputs": [],
   "source": [
    "link_speed.head()"
   ]
  },
  {
   "cell_type": "code",
   "execution_count": null,
   "id": "c5a8b9d3",
   "metadata": {},
   "outputs": [],
   "source": [
    "link_tt = link_speed.groupby(['LNSegID', 'AllRds_Dir', 'DateTime'], as_index=False).agg({'LinkLength':'sum',\n",
    "                                                                                         'MeanTT':'sum',\n",
    "                                                                               })\n",
    "link_tt.head()"
   ]
  },
  {
   "cell_type": "code",
   "execution_count": null,
   "id": "2036aa14",
   "metadata": {},
   "outputs": [],
   "source": [
    "link_tt['AvgSpeed'] = round(link_tt['LinkLength']/link_tt['MeanTT'],3)\n",
    "link_tt.head()"
   ]
  },
  {
   "cell_type": "code",
   "execution_count": null,
   "id": "84f9e1ab",
   "metadata": {},
   "outputs": [],
   "source": [
    "linkc = link_tt.loc[link_tt.AllRds_Dir == 'Cardinal', ['LNSegID', 'DateTime', 'AvgSpeed']]\n",
    "linkc.columns = ['LNSegID', 'DateTime', 'AvgSpeedC']\n",
    "linkc.head()"
   ]
  },
  {
   "cell_type": "code",
   "execution_count": null,
   "id": "956e9d0b",
   "metadata": {},
   "outputs": [],
   "source": [
    "linkc.info(show_counts=True)"
   ]
  },
  {
   "cell_type": "code",
   "execution_count": null,
   "id": "169a8e49",
   "metadata": {},
   "outputs": [],
   "source": [
    "linknc = link_tt.loc[link_tt.AllRds_Dir == 'NonCardinal', ['LNSegID', 'DateTime', 'AvgSpeed']]\n",
    "linknc.columns = ['LNSegID', 'DateTime', 'AvgSpeedNC']\n",
    "linknc.head()"
   ]
  },
  {
   "cell_type": "code",
   "execution_count": null,
   "id": "4ff2984b",
   "metadata": {},
   "outputs": [],
   "source": [
    "linknc.info(show_counts=True)"
   ]
  },
  {
   "cell_type": "code",
   "execution_count": null,
   "id": "50d3e0c2",
   "metadata": {},
   "outputs": [],
   "source": [
    "segspeeds = pd.merge(linkc, linknc, on=['LNSegID', 'DateTime'], how='left')\n",
    "segspeeds.info(show_counts=True)"
   ]
  },
  {
   "cell_type": "code",
   "execution_count": null,
   "id": "6d18074b",
   "metadata": {},
   "outputs": [],
   "source": [
    "segspeeds['AvgSpeedbd'] = segspeeds[['AvgSpeedC', 'AvgSpeedNC']].mean(axis=1)\n",
    "segspeeds['AvgSpeedbd'] = round(segspeeds['AvgSpeedbd'],2)"
   ]
  },
  {
   "cell_type": "code",
   "execution_count": null,
   "id": "f01d395b",
   "metadata": {},
   "outputs": [],
   "source": [
    "segspeeds['MinSpeedbd'] = segspeeds[['AvgSpeedC', 'AvgSpeedNC']].min(axis=1)\n",
    "segspeeds['MinSpeedbd'] = round(segspeeds['MinSpeedbd'],2)"
   ]
  },
  {
   "cell_type": "code",
   "execution_count": null,
   "id": "22a2a333",
   "metadata": {},
   "outputs": [],
   "source": [
    "segspeeds.info()"
   ]
  },
  {
   "cell_type": "code",
   "execution_count": null,
   "id": "9e914c7a",
   "metadata": {},
   "outputs": [],
   "source": [
    "segspeeds.head()"
   ]
  },
  {
   "cell_type": "code",
   "execution_count": null,
   "id": "31e468f8",
   "metadata": {},
   "outputs": [],
   "source": [
    "segspeeds.to_csv('Homogenous_Segment_speeds.csv', index=False)"
   ]
  },
  {
   "cell_type": "code",
   "execution_count": null,
   "id": "ed0d7954",
   "metadata": {},
   "outputs": [],
   "source": []
  },
  {
   "cell_type": "markdown",
   "id": "8079c8f9",
   "metadata": {},
   "source": [
    "### Weather"
   ]
  },
  {
   "cell_type": "code",
   "execution_count": null,
   "id": "91840273",
   "metadata": {},
   "outputs": [],
   "source": [
    "segspeeds = pd.read_csv('Homogenous_Segment_speeds.csv')"
   ]
  },
  {
   "cell_type": "code",
   "execution_count": null,
   "id": "cf2a5c6d",
   "metadata": {},
   "outputs": [],
   "source": [
    "segspeeds.info(show_counts=True)"
   ]
  },
  {
   "cell_type": "code",
   "execution_count": null,
   "id": "9c66d755",
   "metadata": {},
   "outputs": [],
   "source": [
    "weather = pd.read_csv('Weather/weather_data_second_half_2018.csv')\n",
    "weather.head()"
   ]
  },
  {
   "cell_type": "code",
   "execution_count": null,
   "id": "621f9cc4",
   "metadata": {},
   "outputs": [],
   "source": [
    "weather_stations = weather.drop_duplicates('mesonetNetSiteName', ignore_index=True)\n",
    "print(len(weather_stations))\n",
    "weather_stations = weather_stations[['mesonetNetSiteName','mesonetGeoLat','mesonetGeoLong']]\n",
    "weather_stations.head()"
   ]
  },
  {
   "cell_type": "code",
   "execution_count": null,
   "id": "c5bf60f6",
   "metadata": {},
   "outputs": [],
   "source": [
    "#weather_stations.to_csv('weather_stations.csv', index=False)"
   ]
  },
  {
   "cell_type": "code",
   "execution_count": null,
   "id": "c631e825",
   "metadata": {},
   "outputs": [],
   "source": [
    "weather_relevant = weather[['mesonetNetSiteName','kytcDateExistsET','mesonetDewpoint', 'mesonetAirTemperature', \n",
    "                            'mesonetPrecipitationToday','mesonetWindSpeed']]\n",
    "\n",
    "weather_relevant['kytcDateExistsET'] = weather_relevant['kytcDateExistsET'].str[:-5] + '00'\n",
    "\n",
    "weather_relevant.columns = ['weatherstation','DateTime', 'dewpoint', 'airtemp', 'precipitation','windspeed']\n",
    "weather_relevant.head()"
   ]
  },
  {
   "cell_type": "code",
   "execution_count": null,
   "id": "97ed1873",
   "metadata": {},
   "outputs": [],
   "source": [
    "weather_relevant['DateTime'] = weather_relevant['DateTime'].astype('datetime64[ns]')\n",
    "weather_relevant.info()"
   ]
  },
  {
   "cell_type": "code",
   "execution_count": null,
   "id": "a8524e9c",
   "metadata": {},
   "outputs": [],
   "source": [
    "weather_relevant = weather_relevant.groupby(['weatherstation', 'DateTime'], as_index=False).agg({'dewpoint':'mean',\n",
    "                                                                                               'airtemp':'mean',\n",
    "                                                                                            'precipitation':'sum',\n",
    "                                                                                             'windspeed':'mean'})"
   ]
  },
  {
   "cell_type": "code",
   "execution_count": null,
   "id": "48204571",
   "metadata": {},
   "outputs": [],
   "source": [
    "weather_relevant.to_csv('homogenous_segments_weather_data.csv', index=False)"
   ]
  },
  {
   "cell_type": "code",
   "execution_count": null,
   "id": "0dba267b",
   "metadata": {},
   "outputs": [],
   "source": [
    "weather_relevant.info()"
   ]
  },
  {
   "cell_type": "code",
   "execution_count": null,
   "id": "3e3bc453",
   "metadata": {},
   "outputs": [],
   "source": [
    "hsegs = pd.read_csv('homogenous_segments_with_weather_stations.csv')\n",
    "hsegs.head()"
   ]
  },
  {
   "cell_type": "code",
   "execution_count": null,
   "id": "6a011e31",
   "metadata": {},
   "outputs": [],
   "source": []
  },
  {
   "cell_type": "markdown",
   "id": "b221e517",
   "metadata": {},
   "source": [
    "### Waze Vehicle On Shoulder"
   ]
  },
  {
   "cell_type": "code",
   "execution_count": null,
   "id": "37a74592",
   "metadata": {},
   "outputs": [],
   "source": [
    "vos = pd.read_csv('Waze_alerts_no_duplicates_clustered.csv')\n",
    "vos['Year'] = 2018\n",
    "vos.head()"
   ]
  },
  {
   "cell_type": "code",
   "execution_count": null,
   "id": "3c3434f7",
   "metadata": {},
   "outputs": [],
   "source": [
    "def convertdatetime(year,month,day,hour):\n",
    "    return format(datetime.datetime(year, month, day, hour), '%Y-%m-%d %H:%M')"
   ]
  },
  {
   "cell_type": "code",
   "execution_count": null,
   "id": "2ef541d5",
   "metadata": {},
   "outputs": [],
   "source": [
    "vos['DateTime'] = vos.apply(lambda x: convertdatetime(x['Year'], x['month'], x['day'], x['hour']), axis=1)\n",
    "vos = vos[['kytcrtuniqueinitial', 'kytcbmpinitial', 'kytcempinitial', 'DateTime', 'wazealertincidentsubtype']]\n",
    "vos.head()"
   ]
  },
  {
   "cell_type": "code",
   "execution_count": null,
   "id": "563aa472",
   "metadata": {},
   "outputs": [],
   "source": [
    "vos['ROUTE_ID'] = vos['kytcrtuniqueinitial'].str[:-3] + '000'\n",
    "vos.head()"
   ]
  },
  {
   "cell_type": "code",
   "execution_count": null,
   "id": "e2d397ff",
   "metadata": {},
   "outputs": [],
   "source": [
    "vos_segs = pd.DataFrame()\n",
    "for i in range(len(ln_grouped)):\n",
    "    rt = ln_grouped.loc[i, 'ROUTE_ID'].replace(' ', '')\n",
    "    bmp = ln_grouped.loc[i, 'BEGIN_POINT']\n",
    "    emp = ln_grouped.loc[i, 'END_POINT']\n",
    "    segid = ln_grouped.loc[i, 'LNSegID']\n",
    "    \n",
    "    voslinks = vos.loc[(vos.ROUTE_ID == rt) & (vos.kytcbmpinitial<emp) & (vos.kytcempinitial>bmp)] \n",
    "    voslinks['LNSegID'] = segid\n",
    "    \n",
    "    vos_segs = vos_segs.append(voslinks, ignore_index=True)"
   ]
  },
  {
   "cell_type": "code",
   "execution_count": null,
   "id": "d479c5a2",
   "metadata": {},
   "outputs": [],
   "source": [
    "vos_segs.head()"
   ]
  },
  {
   "cell_type": "code",
   "execution_count": null,
   "id": "a320be34",
   "metadata": {},
   "outputs": [],
   "source": [
    "vos_segs = vos_segs[['LNSegID','DateTime','wazealertincidentsubtype']]\n",
    "vos_segs.head()"
   ]
  },
  {
   "cell_type": "code",
   "execution_count": null,
   "id": "bea13c40",
   "metadata": {},
   "outputs": [],
   "source": [
    "vos_segs['DateTime'] = vos_segs['DateTime'].astype('datetime64[ns]')"
   ]
  },
  {
   "cell_type": "code",
   "execution_count": null,
   "id": "75c6cef4",
   "metadata": {},
   "outputs": [],
   "source": [
    "vos_segs.info()"
   ]
  },
  {
   "cell_type": "code",
   "execution_count": null,
   "id": "75e8536d",
   "metadata": {},
   "outputs": [],
   "source": [
    "#final\n",
    "vos_segs_grouped = vos_segs.groupby(['LNSegID','DateTime'], as_index=False).agg({'wazealertincidentsubtype':'count'})\n",
    "vos_segs_grouped.columns = ['LNSegID','DateTime', 'voshcount']\n",
    "vos_segs_grouped.head()"
   ]
  },
  {
   "cell_type": "code",
   "execution_count": null,
   "id": "5cdec5ab",
   "metadata": {},
   "outputs": [],
   "source": [
    "vos_segs_grouped.info()"
   ]
  },
  {
   "cell_type": "markdown",
   "id": "ec9efe7d",
   "metadata": {},
   "source": [
    "## All together"
   ]
  },
  {
   "cell_type": "code",
   "execution_count": null,
   "id": "441e9727",
   "metadata": {},
   "outputs": [],
   "source": [
    "hsegs.rename(columns = {'mesonetNetSiteName':'weatherstation'}, inplace=True)\n",
    "hsegs.head()"
   ]
  },
  {
   "cell_type": "code",
   "execution_count": null,
   "id": "be383228",
   "metadata": {},
   "outputs": [],
   "source": [
    "hsegs.info()"
   ]
  },
  {
   "cell_type": "code",
   "execution_count": null,
   "id": "5e70ded9",
   "metadata": {},
   "outputs": [],
   "source": [
    "segspeeds.info()"
   ]
  },
  {
   "cell_type": "code",
   "execution_count": null,
   "id": "c225f351",
   "metadata": {},
   "outputs": [],
   "source": [
    "segs_spd = pd.merge(hsegs, segspeeds, on='LNSegID', how='left', copy=False)\n",
    "segs_spd.head()"
   ]
  },
  {
   "cell_type": "code",
   "execution_count": null,
   "id": "bd22eb89",
   "metadata": {},
   "outputs": [],
   "source": [
    "segs_spd.info(show_counts=True)"
   ]
  },
  {
   "cell_type": "code",
   "execution_count": null,
   "id": "b66a0bd4",
   "metadata": {},
   "outputs": [],
   "source": [
    "weather_relevant.info(show_counts=True)"
   ]
  },
  {
   "cell_type": "code",
   "execution_count": null,
   "id": "cc362262",
   "metadata": {},
   "outputs": [],
   "source": [
    "segs_spd.to_csv('Homogenous_Segment_speeds.csv', index=False)"
   ]
  },
  {
   "cell_type": "code",
   "execution_count": null,
   "id": "6eb07cf3",
   "metadata": {},
   "outputs": [],
   "source": [
    "segs_spd_weather = pd.merge(segs_spd, weather_relevant, on=['weatherstation','DateTime'], how='inner', copy=False)\n",
    "segs_spd_weather.head()"
   ]
  },
  {
   "cell_type": "code",
   "execution_count": null,
   "id": "1f1c6b52",
   "metadata": {},
   "outputs": [],
   "source": [
    "segs_spd_weather.info(show_counts=True)"
   ]
  },
  {
   "cell_type": "code",
   "execution_count": null,
   "id": "30b723ab",
   "metadata": {},
   "outputs": [],
   "source": [
    "segs_speed_weather_vos = pd.merge(segs_spd_weather, vos_segs_grouped, on=['LNSegID','DateTime'], how='left')\n",
    "segs_speed_weather_vos.head()"
   ]
  },
  {
   "cell_type": "code",
   "execution_count": null,
   "id": "a63e14cb",
   "metadata": {},
   "outputs": [],
   "source": [
    "segs_speed_weather_vos.info(show_counts=True)"
   ]
  },
  {
   "cell_type": "code",
   "execution_count": null,
   "id": "20d457ec",
   "metadata": {},
   "outputs": [],
   "source": [
    "segs_speed_weather_vos['voshcount'] = segs_speed_weather_vos['voshcount'].fillna(0)"
   ]
  },
  {
   "cell_type": "code",
   "execution_count": null,
   "id": "73a93e79",
   "metadata": {},
   "outputs": [],
   "source": [
    "segs_speed_weather_vos.info(show_counts=True)"
   ]
  },
  {
   "cell_type": "code",
   "execution_count": null,
   "id": "13ed5297",
   "metadata": {},
   "outputs": [],
   "source": [
    "segs_speed_weather_vos.head()"
   ]
  },
  {
   "cell_type": "code",
   "execution_count": null,
   "id": "bf73cdf3",
   "metadata": {},
   "outputs": [],
   "source": [
    "segs_speed_weather_vos.to_csv('homogenous_segments_spdweathervosh.csv')"
   ]
  },
  {
   "cell_type": "code",
   "execution_count": null,
   "id": "878b3d76",
   "metadata": {},
   "outputs": [],
   "source": [
    "#speed\n",
    "#weather\n",
    "#vosh\n",
    "#volume"
   ]
  },
  {
   "cell_type": "code",
   "execution_count": null,
   "id": "2e0dcd28",
   "metadata": {},
   "outputs": [],
   "source": [
    "segs_speed_weather_vos.drop(['ROUTE_ID', 'BEGIN_POINT', 'END_POINT','weatherstation'], axis=1, inplace=True)"
   ]
  },
  {
   "cell_type": "code",
   "execution_count": null,
   "id": "9c4948bf",
   "metadata": {},
   "outputs": [],
   "source": [
    "segs_speed_weather_vos['dt'] = pd.to_datetime(segs_speed_weather_vos['DateTime'])"
   ]
  },
  {
   "cell_type": "code",
   "execution_count": null,
   "id": "d963b750",
   "metadata": {},
   "outputs": [],
   "source": [
    "segs_speed_weather_vos['hour'] = segs_speed_weather_vos['dt'].dt.hour"
   ]
  },
  {
   "cell_type": "code",
   "execution_count": null,
   "id": "9d0c41b9",
   "metadata": {},
   "outputs": [],
   "source": [
    "segs_speed_weather_vos['dow'] = segs_speed_weather_vos['dt'].dt.dayofweek"
   ]
  },
  {
   "cell_type": "code",
   "execution_count": null,
   "id": "28742590",
   "metadata": {},
   "outputs": [],
   "source": [
    "segs_speed_weather_vos['weekend'] = segs_speed_weather_vos['dow'].map(lambda x: 1 if x>4 else 0)"
   ]
  },
  {
   "cell_type": "code",
   "execution_count": null,
   "id": "273f1552",
   "metadata": {
    "scrolled": true
   },
   "outputs": [],
   "source": [
    "segs_speed_weather_vos.head()"
   ]
  },
  {
   "cell_type": "code",
   "execution_count": null,
   "id": "b395411d",
   "metadata": {},
   "outputs": [],
   "source": [
    "segs_speed_weather_vos['weekend'].min()"
   ]
  },
  {
   "cell_type": "code",
   "execution_count": null,
   "id": "71f31fbd",
   "metadata": {},
   "outputs": [],
   "source": [
    "segs_speed_weather_vos.to_parquet('segs_speed_weather_vos.parquet', index=False)"
   ]
  },
  {
   "cell_type": "markdown",
   "id": "346a3ebb",
   "metadata": {},
   "source": [
    "### volume"
   ]
  },
  {
   "cell_type": "code",
   "execution_count": null,
   "id": "e72502a9",
   "metadata": {},
   "outputs": [],
   "source": [
    "segs_speed_weather_vos = pd.read_parquet('segs_speed_weather_vos.parquet')\n",
    "segs_speed_weather_vos.head()"
   ]
  },
  {
   "cell_type": "code",
   "execution_count": null,
   "id": "5a5ad37b",
   "metadata": {},
   "outputs": [],
   "source": [
    "segs_speed_weather_vos['hour'].unique()"
   ]
  },
  {
   "cell_type": "code",
   "execution_count": null,
   "id": "74529c27",
   "metadata": {},
   "outputs": [],
   "source": [
    "factors = pd.read_csv('ATR_HourlyFactors_2014_2015_2016.csv')\n",
    "factors = factors[factors.fun_c == 1]\n",
    "factors.head()"
   ]
  },
  {
   "cell_type": "code",
   "execution_count": null,
   "id": "d607bb38",
   "metadata": {},
   "outputs": [],
   "source": [
    "factors = factors[['Hour','dayofweek','perc']]\n",
    "factors.columns = ['hour','weekend','perc']\n",
    "factors.head()"
   ]
  },
  {
   "cell_type": "code",
   "execution_count": null,
   "id": "e4dbc417",
   "metadata": {},
   "outputs": [],
   "source": [
    "segs_speed_weather_vos_vol = pd.merge(segs_speed_weather_vos, factors, on=['hour', 'weekend'], how='left')"
   ]
  },
  {
   "cell_type": "code",
   "execution_count": null,
   "id": "45c57a71",
   "metadata": {},
   "outputs": [],
   "source": [
    "segs_speed_weather_vos_vol['hvol'] = (segs_speed_weather_vos_vol['AADT']/2) * segs_speed_weather_vos_vol['perc']"
   ]
  },
  {
   "cell_type": "code",
   "execution_count": null,
   "id": "0f69ff16",
   "metadata": {},
   "outputs": [],
   "source": [
    "segs_speed_weather_vos_vol.drop(['dt','hour','dow','perc'], axis=1, inplace=True)"
   ]
  },
  {
   "cell_type": "code",
   "execution_count": null,
   "id": "46d5d2cd",
   "metadata": {},
   "outputs": [],
   "source": [
    "segs_speed_weather_vos_vol.head()"
   ]
  },
  {
   "cell_type": "code",
   "execution_count": null,
   "id": "c5bf8192",
   "metadata": {},
   "outputs": [],
   "source": [
    "segs_speed_weather_vos_vol.to_parquet('segs_speed_weather_vos_vol.parquet', index=False)"
   ]
  },
  {
   "cell_type": "code",
   "execution_count": null,
   "id": "55e4751f",
   "metadata": {},
   "outputs": [],
   "source": []
  },
  {
   "cell_type": "markdown",
   "id": "6ef8d7e3",
   "metadata": {},
   "source": [
    "### crashes"
   ]
  },
  {
   "cell_type": "code",
   "execution_count": null,
   "id": "5b83634e",
   "metadata": {},
   "outputs": [],
   "source": [
    "segs_speed_weather_vos_vol = pd.read_parquet('segs_speed_weather_vos_vol.parquet')"
   ]
  },
  {
   "cell_type": "code",
   "execution_count": null,
   "id": "e92886db",
   "metadata": {},
   "outputs": [],
   "source": [
    "crashes = pd.read_csv('interstate_crashes.csv')\n",
    "crashes.head()"
   ]
  },
  {
   "cell_type": "code",
   "execution_count": null,
   "id": "4fd4a272",
   "metadata": {},
   "outputs": [],
   "source": [
    "crashes['DateTime'] = crashes['timestamp'].str[:-5] + '00'\n",
    "crashes['RTmod'] = crashes['ROUTE_ID'].str[:-3] + '000'"
   ]
  },
  {
   "cell_type": "code",
   "execution_count": null,
   "id": "1c4d94c6",
   "metadata": {},
   "outputs": [],
   "source": [
    "hsegs['rt'] = hsegs['ROUTE_ID'].str.replace(' ','')"
   ]
  },
  {
   "cell_type": "code",
   "execution_count": null,
   "id": "4549d34c",
   "metadata": {},
   "outputs": [],
   "source": [
    "crashes.head()"
   ]
  },
  {
   "cell_type": "code",
   "execution_count": null,
   "id": "3b9bd1a0",
   "metadata": {},
   "outputs": [],
   "source": [
    "crashes['LNSegID'] = None\n",
    "for i in range(len(crashes)): #\n",
    "    \n",
    "    rt = crashes.loc[i, 'RTmod']\n",
    "    mp = crashes.loc[i, 'MilePoint']\n",
    "    \n",
    "    seg = hsegs.loc[(hsegs.rt == rt) & (hsegs.BEGIN_POINT <= mp)& (hsegs.END_POINT >= mp) ].sort_values('BEGIN_POINT')\n",
    "    \n",
    "    if len(seg) > 0:\n",
    "        segid = seg.LNSegID.values[0]\n",
    "        crashes.loc[i, 'LNSegID'] = segid"
   ]
  },
  {
   "cell_type": "code",
   "execution_count": null,
   "id": "c95c0ba5",
   "metadata": {},
   "outputs": [],
   "source": [
    "crashes.head()"
   ]
  },
  {
   "cell_type": "code",
   "execution_count": null,
   "id": "08173e14",
   "metadata": {},
   "outputs": [],
   "source": [
    "crashes = crashes.loc[pd.notnull(crashes.LNSegID)]\n",
    "crashes.head()"
   ]
  },
  {
   "cell_type": "code",
   "execution_count": null,
   "id": "27a6a141",
   "metadata": {},
   "outputs": [],
   "source": [
    "crashes = crashes[['LNSegID','DateTime','MasterFile']]"
   ]
  },
  {
   "cell_type": "code",
   "execution_count": null,
   "id": "c2c95939",
   "metadata": {},
   "outputs": [],
   "source": [
    "crashes_count = crashes.groupby(['LNSegID', 'DateTime'], as_index=False).agg({'MasterFile':'count'})\n",
    "crashes_count.columns = ['LNSegID', 'DateTime', 'crashcount']"
   ]
  },
  {
   "cell_type": "code",
   "execution_count": null,
   "id": "2ca7ea0a",
   "metadata": {},
   "outputs": [],
   "source": [
    "crashes_count['DateTime'] = crashes_count['DateTime'].astype('datetime64[ns]')"
   ]
  },
  {
   "cell_type": "code",
   "execution_count": null,
   "id": "e3d4792e",
   "metadata": {},
   "outputs": [],
   "source": [
    "crashes_count.head()"
   ]
  },
  {
   "cell_type": "code",
   "execution_count": null,
   "id": "ad7ed840",
   "metadata": {},
   "outputs": [],
   "source": [
    "crashes_count.info(show_counts=True)"
   ]
  },
  {
   "cell_type": "code",
   "execution_count": null,
   "id": "c20ae642",
   "metadata": {},
   "outputs": [],
   "source": [
    "segs_speed_weather_vos_vol.info(show_counts=True)"
   ]
  },
  {
   "cell_type": "code",
   "execution_count": null,
   "id": "2ab03344",
   "metadata": {},
   "outputs": [],
   "source": [
    "data = pd.merge(segs_speed_weather_vos_vol, crashes_count, on=['LNSegID','DateTime'], how='left')"
   ]
  },
  {
   "cell_type": "code",
   "execution_count": null,
   "id": "227039db",
   "metadata": {},
   "outputs": [],
   "source": [
    "data['crashcount'] = data['crashcount'].fillna(0)"
   ]
  },
  {
   "cell_type": "code",
   "execution_count": null,
   "id": "5eb4c2c3",
   "metadata": {},
   "outputs": [],
   "source": [
    "data.info(show_counts=True)"
   ]
  },
  {
   "cell_type": "code",
   "execution_count": null,
   "id": "4db775b2",
   "metadata": {},
   "outputs": [],
   "source": [
    "data.to_parquet('all_data.parquet', index=False)"
   ]
  },
  {
   "cell_type": "code",
   "execution_count": null,
   "id": "d700e8fc",
   "metadata": {},
   "outputs": [],
   "source": [
    "data['RURAL'] = data['RURAL_URBAN'].map(lambda x: 1 if x=='Rural' else 0)\n",
    "data['NOT_FLAT_TERRAIN'] = data['TYPE_TERRAIN'].map(lambda x: 1 if (x != 1) else 0)\n",
    "\n",
    "data['VehShoulderPresent'] = data['voshcount'].map(lambda x: 1 if x>=1 else 0)\n",
    "data['Crash'] = data['crashcount'].map(lambda x: 1 if x>=1 else 0)"
   ]
  },
  {
   "cell_type": "code",
   "execution_count": null,
   "id": "1f9cff3a",
   "metadata": {},
   "outputs": [],
   "source": [
    "data['AvgSpdminusSL'] = data['AvgSpeedbd'] - data['SPEED_LIMIT_LWA']\n",
    "data['MinSpdminusSL'] = data['MinSpeedbd'] - data['SPEED_LIMIT_LWA']"
   ]
  },
  {
   "cell_type": "code",
   "execution_count": null,
   "id": "01bbb1df",
   "metadata": {},
   "outputs": [],
   "source": [
    "data.to_parquet('data_allcols.parquet', index=False)"
   ]
  },
  {
   "cell_type": "code",
   "execution_count": null,
   "id": "81bc3530",
   "metadata": {},
   "outputs": [],
   "source": []
  },
  {
   "cell_type": "markdown",
   "id": "709680ff",
   "metadata": {},
   "source": [
    "### Data"
   ]
  },
  {
   "cell_type": "code",
   "execution_count": null,
   "id": "0f6c146f",
   "metadata": {},
   "outputs": [],
   "source": [
    "data = pd.read_parquet('data_allcols.parquet')\n",
    "data.head()"
   ]
  },
  {
   "cell_type": "code",
   "execution_count": null,
   "id": "007af99b",
   "metadata": {},
   "outputs": [],
   "source": [
    "data.info(show_counts=True)"
   ]
  },
  {
   "cell_type": "code",
   "execution_count": null,
   "id": "65ccce41",
   "metadata": {},
   "outputs": [],
   "source": [
    "data_sub = data[['LNSegID','RURAL','DegHCurve_LWA', 'DegGrade_LWA', 'TRUCK_PERC', 'THROUGH_LANES', 'LANE_WIDTH',\n",
    "              'SHOULDER_WIDTH_L', 'SHOULDER_WIDTH_R', 'SPEED_LIMIT_LWA', 'SECTION_LENGTH','DateTime', 'AvgSpeedbd',\n",
    "              'MinSpeedbd', 'dewpoint', 'airtemp', 'precipitation', 'windspeed','weekend', 'hvol','NOT_FLAT_TERRAIN', \n",
    "             'AvgSpdminusSL', 'MinSpdminusSL', 'VehShoulderPresent', 'crashcount','Crash']]"
   ]
  },
  {
   "cell_type": "code",
   "execution_count": null,
   "id": "a292e711",
   "metadata": {},
   "outputs": [],
   "source": [
    "data.columns"
   ]
  },
  {
   "cell_type": "code",
   "execution_count": null,
   "id": "79c8c286",
   "metadata": {},
   "outputs": [],
   "source": [
    "data_sub.info(show_counts=True)"
   ]
  },
  {
   "cell_type": "code",
   "execution_count": null,
   "id": "e9f495fe",
   "metadata": {},
   "outputs": [],
   "source": [
    "data_sub.to_parquet('data_formodel_final.parquet', index=False)"
   ]
  },
  {
   "cell_type": "code",
   "execution_count": null,
   "id": "6ef1b1b0",
   "metadata": {},
   "outputs": [],
   "source": [
    "data_sub.to_csv('model_data.csv', index=False)"
   ]
  },
  {
   "cell_type": "markdown",
   "id": "9473a459",
   "metadata": {},
   "source": [
    "### Assess Correlation"
   ]
  },
  {
   "cell_type": "code",
   "execution_count": null,
   "id": "ff77ecdd-c4e8-4182-b5e1-4d54b4a8f617",
   "metadata": {},
   "outputs": [],
   "source": [
    "#data = pd.read_csv('model_data.csv')\n",
    "data = data_sub.copy()\n",
    "data.head()"
   ]
  },
  {
   "cell_type": "code",
   "execution_count": null,
   "id": "f827eb8f",
   "metadata": {},
   "outputs": [],
   "source": [
    "#filter out less than 5mph speed seg-datetime\n",
    "data = data[data.AvgSpeedbd >= 5]"
   ]
  },
  {
   "cell_type": "code",
   "execution_count": null,
   "id": "4d617c3a-5dc0-4552-aa66-7c79983c3d05",
   "metadata": {},
   "outputs": [],
   "source": [
    "data['DateTime'] = pd.to_datetime(data['DateTime'])\n",
    "data.head()"
   ]
  },
  {
   "cell_type": "code",
   "execution_count": null,
   "id": "9ca05226",
   "metadata": {},
   "outputs": [],
   "source": [
    "data.DateTime.min(), data.DateTime.max()"
   ]
  },
  {
   "cell_type": "code",
   "execution_count": null,
   "id": "94cce07c-6500-43ee-99db-1557043dd8bb",
   "metadata": {},
   "outputs": [],
   "source": [
    "data.sort_values(['LNSegID','DateTime'], ascending=True, inplace=True)\n",
    "data.reset_index(drop=True, inplace=True)\n",
    "data['TimeStep'] = data['DateTime'].factorize()[0] + 1\n",
    "data['ID'] = data['LNSegID'].factorize()[0] + 1\n",
    "data.head()"
   ]
  },
  {
   "cell_type": "code",
   "execution_count": null,
   "id": "313f3b50-a063-4de1-ac1f-f75ae871b622",
   "metadata": {},
   "outputs": [],
   "source": [
    "summary = data.groupby(['LNSegID'], as_index=False).agg({'Crash':'sum', 'VehShoulderPresent':'sum','TimeStep':'max'})\n",
    "summary"
   ]
  },
  {
   "cell_type": "code",
   "execution_count": null,
   "id": "ca11efc4",
   "metadata": {},
   "outputs": [],
   "source": [
    "cols = [ 'ID','TimeStep','RURAL', 'DegHCurve_LWA', 'DegGrade_LWA', 'TRUCK_PERC','THROUGH_LANES', 'LANE_WIDTH', \n",
    "        'SHOULDER_WIDTH_L', 'SHOULDER_WIDTH_R', 'SPEED_LIMIT_LWA', 'SECTION_LENGTH','AvgSpeedbd','MinSpeedbd',\n",
    "        'dewpoint', 'airtemp', 'precipitation', 'windspeed','weekend', 'hvol', 'NOT_FLAT_TERRAIN', 'AvgSpdminusSL',\n",
    "        'MinSpdminusSL','VehShoulderPresent','crashcount','Crash']"
   ]
  },
  {
   "cell_type": "code",
   "execution_count": null,
   "id": "f1e5b20c",
   "metadata": {},
   "outputs": [],
   "source": [
    "data_sub = data[cols]\n",
    "data_sub.head()"
   ]
  },
  {
   "cell_type": "code",
   "execution_count": null,
   "id": "26f4d175",
   "metadata": {},
   "outputs": [],
   "source": [
    "from math import log\n",
    "def ln(x):\n",
    "    return log(x)\n",
    "\n",
    "data_sub['Ln_hvol'] = data_sub['hvol'].map(ln)\n",
    "data_sub['Ln_seglen'] = data_sub['SECTION_LENGTH'].map(ln)\n",
    "data_sub.head()"
   ]
  },
  {
   "cell_type": "code",
   "execution_count": null,
   "id": "cd51679a",
   "metadata": {},
   "outputs": [],
   "source": [
    "data_sub['ratio_spdlim_avgspd'] = data_sub['SPEED_LIMIT_LWA']/data_sub['AvgSpeedbd']\n",
    "data_sub['ratio_spdlim_avgspd_capped'] = np.where(data_sub['ratio_spdlim_avgspd'] < 1, 1, data_sub['ratio_spdlim_avgspd'])\n",
    "#cap at speed limit\n",
    "data_sub['AvgSpdminusSL_capped'] = np.where(data_sub['AvgSpdminusSL'] > 0, 0, data_sub['AvgSpdminusSL'])\n",
    "\n",
    "data_sub.head()"
   ]
  },
  {
   "cell_type": "code",
   "execution_count": null,
   "id": "22669099",
   "metadata": {},
   "outputs": [],
   "source": [
    "data_sub.describe().transpose()"
   ]
  },
  {
   "cell_type": "code",
   "execution_count": null,
   "id": "cb164c83",
   "metadata": {},
   "outputs": [],
   "source": [
    "data_sub.to_csv('E:/WAZE/data_integrated/model_data_segs_all.csv', index=False)"
   ]
  },
  {
   "cell_type": "code",
   "execution_count": null,
   "id": "06c25e60",
   "metadata": {},
   "outputs": [],
   "source": []
  },
  {
   "cell_type": "code",
   "execution_count": null,
   "id": "0f8d58ab",
   "metadata": {},
   "outputs": [],
   "source": []
  },
  {
   "cell_type": "markdown",
   "id": "4aac78d3",
   "metadata": {},
   "source": [
    "### with crash"
   ]
  },
  {
   "cell_type": "code",
   "execution_count": null,
   "id": "fa5b198a-75dc-4fbc-a3f1-f3b7ff89b525",
   "metadata": {},
   "outputs": [],
   "source": [
    "has_crash = summary.query(\"Crash > 0\")\n",
    "has_crash_segs = has_crash.LNSegID.tolist()\n",
    "data_has_crash = data[data.LNSegID.isin(has_crash_segs)]\n",
    "data_has_crash.sort_values(['LNSegID','DateTime'], ascending=True, inplace=True)\n",
    "data_has_crash['TimeStep'] = data_has_crash['DateTime'].factorize()[0] + 1\n",
    "data_has_crash.reset_index(drop=True, inplace=True)"
   ]
  },
  {
   "cell_type": "code",
   "execution_count": null,
   "id": "dc0989db-c1ce-4dea-87fd-f797d49fb856",
   "metadata": {},
   "outputs": [],
   "source": [
    "data_has_crash['ID'] = data_has_crash['LNSegID'].factorize()[0] + 1"
   ]
  },
  {
   "cell_type": "code",
   "execution_count": null,
   "id": "89a4eab5-ec75-4cea-8865-c326fe1b5c70",
   "metadata": {},
   "outputs": [],
   "source": [
    "cols = [ 'ID','TimeStep','RURAL', 'DegHCurve_LWA', 'DegGrade_LWA', 'TRUCK_PERC','THROUGH_LANES', 'LANE_WIDTH', \n",
    "        'SHOULDER_WIDTH_L', 'SHOULDER_WIDTH_R', 'SPEED_LIMIT_LWA', 'SECTION_LENGTH','AvgSpeedbd','MinSpeedbd',\n",
    "        'dewpoint', 'airtemp', 'precipitation', 'windspeed','weekend', 'hvol', 'NOT_FLAT_TERRAIN', 'AvgSpdminusSL',\n",
    "        'MinSpdminusSL','VehShoulderPresent','crashcount','Crash']"
   ]
  },
  {
   "cell_type": "code",
   "execution_count": null,
   "id": "e664a2c8-4ef7-4176-9259-f5dd1a775429",
   "metadata": {},
   "outputs": [],
   "source": [
    "data_has_crash_sub = data_has_crash[cols]\n",
    "data_has_crash_sub.head()"
   ]
  },
  {
   "cell_type": "code",
   "execution_count": null,
   "id": "2e97ee87-3ccb-4be9-98a2-6cc0a72b0686",
   "metadata": {},
   "outputs": [],
   "source": [
    "check = data_has_crash_sub.groupby(['ID'], as_index=False).agg({'Crash':'sum', 'VehShoulderPresent':'sum','TimeStep':'max'})\n",
    "check.head()"
   ]
  },
  {
   "cell_type": "code",
   "execution_count": null,
   "id": "c90ec962",
   "metadata": {},
   "outputs": [],
   "source": [
    "check.TimeStep.max()"
   ]
  },
  {
   "cell_type": "code",
   "execution_count": null,
   "id": "50c8344a-7d44-442f-a514-447e75838b4f",
   "metadata": {},
   "outputs": [],
   "source": [
    "data_has_crash_sub.hvol.max(), data_has_crash_sub.SECTION_LENGTH.max(),"
   ]
  },
  {
   "cell_type": "code",
   "execution_count": null,
   "id": "10b43532-95e5-46be-8998-e36d85dca876",
   "metadata": {},
   "outputs": [],
   "source": [
    "from math import log\n",
    "def ln(x):\n",
    "    return log(x)\n",
    "\n",
    "data_has_crash_sub['Ln_hvol'] = data_has_crash_sub['hvol'].map(ln)\n",
    "data_has_crash_sub['Ln_seglen'] = data_has_crash_sub['SECTION_LENGTH'].map(ln)\n",
    "data_has_crash_sub.head()"
   ]
  },
  {
   "cell_type": "code",
   "execution_count": null,
   "id": "7a69c726-76c6-4f88-ab8f-049abc7760c3",
   "metadata": {},
   "outputs": [],
   "source": [
    "data_has_crash_sub['ratio_spdlim_avgspd'] = data_has_crash_sub['SPEED_LIMIT_LWA']/data_has_crash_sub['AvgSpeedbd']\n",
    "data_has_crash_sub['ratio_spdlim_avgspd_capped'] = np.where(data_has_crash_sub['ratio_spdlim_avgspd'] < 1, 1, data_has_crash_sub['ratio_spdlim_avgspd'])\n",
    "#cap at speed limit\n",
    "data_has_crash_sub['AvgSpdminusSL_capped'] = np.where(data_has_crash_sub['AvgSpdminusSL'] > 0, 0, data_has_crash_sub['AvgSpdminusSL'])\n",
    "\n",
    "data_has_crash_sub.head()"
   ]
  },
  {
   "cell_type": "code",
   "execution_count": null,
   "id": "a26a941a-217d-4e03-9463-09c8ddc3d139",
   "metadata": {},
   "outputs": [],
   "source": [
    "data_has_crash_sub.describe().transpose()"
   ]
  },
  {
   "cell_type": "code",
   "execution_count": null,
   "id": "a717db03-4a4d-4e70-925c-ce22ab13461c",
   "metadata": {},
   "outputs": [],
   "source": [
    "data_has_crash_sub.to_csv('E:/WAZE/data_integrated/model_data_segs_with_crashes.csv', index=False)"
   ]
  },
  {
   "cell_type": "code",
   "execution_count": null,
   "id": "54beb012",
   "metadata": {},
   "outputs": [],
   "source": []
  },
  {
   "cell_type": "markdown",
   "id": "d6380629",
   "metadata": {},
   "source": [
    "### data_has_crash_sub"
   ]
  },
  {
   "cell_type": "code",
   "execution_count": null,
   "id": "bffe2df2",
   "metadata": {},
   "outputs": [],
   "source": [
    "data_has_crash_sub = pd.read_csv('New Folder/model_data_segs_with_crashes.csv')\n",
    "data_has_crash_sub.head()"
   ]
  },
  {
   "cell_type": "code",
   "execution_count": null,
   "id": "58766312",
   "metadata": {},
   "outputs": [],
   "source": [
    "data_has_crash_sub.LANE_WIDTH.unique()"
   ]
  },
  {
   "cell_type": "code",
   "execution_count": null,
   "id": "8eedec34",
   "metadata": {},
   "outputs": [],
   "source": [
    "data_has_crash_sub.loc[data_has_crash_sub.LANE_WIDTH == 12, 'SHOULDER_WIDTH_R'].unique()"
   ]
  },
  {
   "cell_type": "code",
   "execution_count": null,
   "id": "d0a5c1ce",
   "metadata": {},
   "outputs": [],
   "source": []
  },
  {
   "cell_type": "code",
   "execution_count": null,
   "id": "92037269",
   "metadata": {},
   "outputs": [],
   "source": [
    "correlations = data_has_crash_sub.corr()"
   ]
  },
  {
   "cell_type": "code",
   "execution_count": null,
   "id": "62c25b17",
   "metadata": {},
   "outputs": [],
   "source": [
    "correlations_all = data_sub.corr()"
   ]
  },
  {
   "cell_type": "code",
   "execution_count": null,
   "id": "88e2e5b4",
   "metadata": {},
   "outputs": [],
   "source": [
    "import pandas as pd\n",
    "import seaborn as sns\n",
    "import matplotlib.pyplot as plt\n",
    "import numpy as np\n",
    "\n",
    "\n",
    "def CorrMtx(df, dropDuplicates = True):\n",
    "\n",
    "    # Your dataset is already a correlation matrix.\n",
    "    # If you have a dateset where you need to include the calculation\n",
    "    # of a correlation matrix, just uncomment the line below:\n",
    "    # df = df.corr()\n",
    "\n",
    "    # Exclude duplicate correlations by masking uper right values\n",
    "    if dropDuplicates:    \n",
    "        mask = np.zeros_like(df, dtype=np.bool_)\n",
    "        mask[np.triu_indices_from(mask)] = True\n",
    "\n",
    "    # Set background color / chart style\n",
    "    sns.set_style(style = 'white')\n",
    "\n",
    "    # Set up  matplotlib figure\n",
    "    f, ax = plt.subplots(figsize=(11, 9))\n",
    "\n",
    "    # Add diverging colormap from red to blue\n",
    "    cmap = sns.diverging_palette(250, 10, as_cmap=True)\n",
    "\n",
    "    # Draw correlation plot with or without duplicates\n",
    "    if dropDuplicates:\n",
    "        sns.heatmap(df, mask=mask, cmap=cmap, \n",
    "                square=True,\n",
    "                linewidth=.5, cbar_kws={\"shrink\": .5}, ax=ax)\n",
    "    else:\n",
    "        sns.heatmap(df, cmap=cmap, \n",
    "                square=True,\n",
    "                linewidth=.5, cbar_kws={\"shrink\": .5}, ax=ax)"
   ]
  },
  {
   "cell_type": "code",
   "execution_count": null,
   "id": "d02e8970",
   "metadata": {},
   "outputs": [],
   "source": [
    "CorrMtx(correlations, dropDuplicates = True)"
   ]
  },
  {
   "cell_type": "code",
   "execution_count": null,
   "id": "ef96ed6f",
   "metadata": {},
   "outputs": [],
   "source": [
    "correlations.to_csv('E:/WAZE/data_integrated/data_has_crash_correlations_mar2.csv')\n",
    "correlations_all.to_csv('E:/WAZE/data_integrated/data_all_correlations_mar2.csv')"
   ]
  },
  {
   "cell_type": "code",
   "execution_count": null,
   "id": "7a92d804",
   "metadata": {},
   "outputs": [],
   "source": []
  },
  {
   "cell_type": "code",
   "execution_count": null,
   "id": "87c3cd99",
   "metadata": {},
   "outputs": [],
   "source": [
    "wz = pd.read_csv('Z:/Waze/Segmentation/data_reduced.csv')\n",
    "wz.head()"
   ]
  },
  {
   "cell_type": "code",
   "execution_count": null,
   "id": "387be9f5",
   "metadata": {},
   "outputs": [],
   "source": [
    "cor = wz.corr()"
   ]
  },
  {
   "cell_type": "code",
   "execution_count": null,
   "id": "ea7e2679",
   "metadata": {},
   "outputs": [],
   "source": [
    "CorrMtx(cor)"
   ]
  },
  {
   "cell_type": "code",
   "execution_count": null,
   "id": "92a1620f",
   "metadata": {},
   "outputs": [],
   "source": [
    "cor[cor]"
   ]
  },
  {
   "cell_type": "code",
   "execution_count": null,
   "id": "ed511b7f",
   "metadata": {},
   "outputs": [],
   "source": []
  },
  {
   "cell_type": "code",
   "execution_count": null,
   "id": "dfdff7fd",
   "metadata": {},
   "outputs": [],
   "source": []
  },
  {
   "cell_type": "raw",
   "id": "b6f33d2b",
   "metadata": {},
   "source": []
  },
  {
   "cell_type": "code",
   "execution_count": null,
   "id": "672b5daf",
   "metadata": {},
   "outputs": [],
   "source": []
  }
 ],
 "metadata": {
  "kernelspec": {
   "display_name": "Python 3 (ipykernel)",
   "language": "python",
   "name": "python3"
  },
  "language_info": {
   "codemirror_mode": {
    "name": "ipython",
    "version": 3
   },
   "file_extension": ".py",
   "mimetype": "text/x-python",
   "name": "python",
   "nbconvert_exporter": "python",
   "pygments_lexer": "ipython3",
   "version": "3.10.8"
  }
 },
 "nbformat": 4,
 "nbformat_minor": 5
}
